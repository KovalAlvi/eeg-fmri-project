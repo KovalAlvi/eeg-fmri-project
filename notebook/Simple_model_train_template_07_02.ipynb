{
 "cells": [
  {
   "cell_type": "markdown",
   "id": "57334e36-39bf-4342-ab23-5bf0868237b9",
   "metadata": {
    "tags": []
   },
   "source": [
    "# Install libraries \n"
   ]
  },
  {
   "cell_type": "code",
   "execution_count": null,
   "id": "7ab4de19-cc35-47c2-912c-d1dc3372c39f",
   "metadata": {},
   "outputs": [],
   "source": [
    "import sys, os, json\n",
    "import mne, sklearn, wandb\n",
    "import numpy as np\n",
    "import pandas as pd\n",
    "\n",
    "from scipy.interpolate import interp1d\n",
    "from nilearn import datasets, image, masking, plotting\n",
    "from nilearn.input_data import NiftiLabelsMasker\n",
    "from tqdm import tqdm\n",
    "\n",
    "# animation part\n",
    "from IPython.display import HTML\n",
    "import matplotlib\n",
    "import matplotlib.pyplot as plt\n",
    "# from celluloid import Camera   # it is convinient method to animate\n",
    "from matplotlib import animation, rc\n",
    "from matplotlib.animation import FuncAnimation\n",
    "\n",
    "\n",
    "## torch libraries \n",
    "import torch\n",
    "import torch.nn as nn\n",
    "import torch.optim as optim\n",
    "import torch.nn.functional as F\n",
    "from torch.utils.data import Dataset, TensorDataset\n",
    "from torch.utils.data import DataLoader, Subset\n",
    "\n",
    "from pytorch_model_summary import summary\n"
   ]
  },
  {
   "cell_type": "code",
   "execution_count": 2,
   "id": "68eacc99-823f-49be-80b1-b432a1833d83",
   "metadata": {},
   "outputs": [],
   "source": [
    "%load_ext autoreload\n",
    "%autoreload 2\n",
    "sys.path.insert(1, os.path.realpath(os.path.pardir))\n",
    "\n",
    "from utils import get_datasets\n",
    "from utils import preproc\n",
    "from utils import torch_dataset\n",
    "from utils import train_utils\n",
    "from utils import inference\n",
    "from utils.models_arch import autoencoder_v3\n",
    "from utils.models_arch import simple_models"
   ]
  },
  {
   "cell_type": "code",
   "execution_count": null,
   "id": "5c59ad4d-cb7a-4fdb-ab36-36b33c73c836",
   "metadata": {},
   "outputs": [],
   "source": []
  },
  {
   "cell_type": "markdown",
   "id": "0974b520-53af-4aae-8475-ad9864cc86f0",
   "metadata": {},
   "source": [
    "# Set all hyperparameters\n",
    "- Cuda and GPU.\n",
    "- Parameters of dataset. \n",
    "- random seed( if necessary). \n"
   ]
  },
  {
   "cell_type": "code",
   "execution_count": 3,
   "id": "e9740a7b-6c36-471f-bafe-3361c4758086",
   "metadata": {},
   "outputs": [
    {
     "name": "stdout",
     "output_type": "stream",
     "text": [
      "True 4\n"
     ]
    }
   ],
   "source": [
    "print(torch.cuda.is_available(), torch.cuda.device_count())\n",
    "torch.cuda.set_device(1)"
   ]
  },
  {
   "cell_type": "code",
   "execution_count": 4,
   "id": "e68da9ec-be91-4cc8-b7d2-87c106d53ada",
   "metadata": {},
   "outputs": [],
   "source": [
    "config = dict(  \n",
    "                dataset_name = 'CWL',\n",
    "                fps = 250,\n",
    "                new_fps=250, \n",
    "                n_channels = 30,\n",
    "                n_roi = 21,\n",
    "                test_sec = 60, # in seconds.\n",
    "                freqs = np.linspace(2, 100, 16), \n",
    "                \n",
    "                \n",
    "                bold_delay = 0,\n",
    "                to_many = False,\n",
    "                random_subsample = False,\n",
    "                sample_per_epoch = None, \n",
    "                WINDOW_SIZE = 250*16,\n",
    "                    \n",
    "                optimizer=None,\n",
    "                lr=None,\n",
    "                weight_decay=None, \n",
    "                batch_size=None, \n",
    "\n",
    "                loss_function = 'mse', \n",
    "                model_type = 'Ridge_Linear_regression'\n",
    "                )\n",
    "\n",
    "\n",
    "hp_model = dict(alpha=100,  # parameter of L2\n",
    "                inp_stride=50, # additional downsampling for Linear Model\n",
    "                step = 100 # we can not terain on all train data. \n",
    "               )\n",
    "\n",
    "\n",
    "config = {**hp_model, **config}\n",
    "\n",
    "params_train = {'batch_size': config['batch_size'],\n",
    "                'shuffle': True,\n",
    "                'num_workers': 0}\n",
    "\n",
    "params_val = {'batch_size': config['batch_size'],\n",
    "              'shuffle': False}"
   ]
  },
  {
   "cell_type": "markdown",
   "id": "5e1a1c42-68f1-4afa-9943-02a441b15e07",
   "metadata": {},
   "source": [
    "# Upload preprocessed dataset from np files. \n",
    "It should accelerate speed of experiments."
   ]
  },
  {
   "cell_type": "code",
   "execution_count": 5,
   "id": "951efaec-ba20-48c9-94aa-588f3f5b13e8",
   "metadata": {},
   "outputs": [
    {
     "name": "stdout",
     "output_type": "stream",
     "text": [
      "Size of train dataset: (30, 16, 54225) (21, 54225)\n",
      "Size of test dataset: (30, 16, 15000) (21, 15000)\n"
     ]
    }
   ],
   "source": [
    "with open(\"labels_roi.json\", 'r') as f:\n",
    "    labels_roi = json.load(f)\n",
    "\n",
    "\n",
    "if config['dataset_name']=='CWL':\n",
    "    dataset_path = 'dataset_cwl_250_hz.npz'\n",
    "    \n",
    "elif config['dataset_name']=='NODDI':\n",
    "    dataset_path = 'dataset_NODDI_250_hz.npz'\n",
    "else:\n",
    "    print('no such dataset')\n",
    "\n",
    "data = np.load(dataset_path)\n",
    "train_dataset_prep = (data['x_train'], data['y_train'])\n",
    "test_dataset_prep = (data['x_test'], data['y_test'])\n",
    "\n",
    "\n",
    "\n",
    "# apply time dealy corrected\n",
    "train_dataset_prep = preproc.bold_time_delay_align(train_dataset_prep, \n",
    "                                                   config['new_fps'],\n",
    "                                                   config['bold_delay'])\n",
    "test_dataset_prep = preproc.bold_time_delay_align(test_dataset_prep, \n",
    "                                                  config['new_fps'],\n",
    "                                                  config['bold_delay'])\n",
    "\n",
    "\n",
    "print('Size of train dataset:', train_dataset_prep[0].shape, train_dataset_prep[1].shape)\n",
    "print('Size of test dataset:', test_dataset_prep[0].shape, test_dataset_prep[1].shape)\n",
    "\n",
    "# torch dataset creation \n",
    "\n",
    "torch_dataset_train = torch_dataset.CreateDataset_eeg_fmri(train_dataset_prep, \n",
    "                                                            window_size = config['WINDOW_SIZE'])\n",
    "\n",
    "torch_dataset_test = torch_dataset.CreateDataset_eeg_fmri(test_dataset_prep,  \n",
    "                                                           window_size =config['WINDOW_SIZE'])\n"
   ]
  },
  {
   "cell_type": "code",
   "execution_count": 6,
   "id": "318915ff-6a4c-4162-8f30-c4933719052c",
   "metadata": {},
   "outputs": [
    {
     "name": "stderr",
     "output_type": "stream",
     "text": [
      "100%|██████████| 25112/25112 [00:00<00:00, 284565.49it/s]\n",
      "100%|██████████| 10999/10999 [00:00<00:00, 183031.74it/s]\n"
     ]
    },
    {
     "name": "stdout",
     "output_type": "stream",
     "text": [
      "Sizes before (25112, 30, 16, 80) (25112, 21)\n",
      "Sizes before (10999, 30, 16, 80) (10999, 21)\n",
      "sizes of datasets: (25112, 38400) (25112, 21)\n"
     ]
    }
   ],
   "source": [
    "x_train, y_train = torch_dataset_train.get_full_dataset(inp_stride=config['inp_stride'], \n",
    "                                                        step=config['step'])\n",
    "x_test, y_test = torch_dataset_test.get_full_dataset(inp_stride=config['inp_stride'], \n",
    "                                                     step=1)\n",
    "\n",
    "\n",
    "dataset_train = (x_train.reshape(len(x_train), -1) , y_train)\n",
    "dataset_test = (x_test.reshape(len(x_test), -1), y_test)\n",
    "\n",
    "print('Sizes before', x_train.shape, y_train.shape)\n",
    "print('Sizes before', x_test.shape, y_test.shape)\n",
    "\n",
    "print('sizes of datasets:',dataset_train[0].shape, dataset_train[1].shape) "
   ]
  },
  {
   "cell_type": "markdown",
   "id": "a9ff0863-786a-4c24-9130-c997833869c1",
   "metadata": {},
   "source": [
    "# Init Model, Loss, optimizers"
   ]
  },
  {
   "cell_type": "code",
   "execution_count": null,
   "id": "97c6360b-0cb4-41f6-aa3f-db469f8b21d7",
   "metadata": {},
   "outputs": [
    {
     "name": "stdout",
     "output_type": "stream",
     "text": [
      "100\n"
     ]
    },
    {
     "name": "stderr",
     "output_type": "stream",
     "text": [
      " 19%|█▉        | 4/21 [1:14:15<4:53:38, 1036.38s/it]"
     ]
    }
   ],
   "source": [
    "# init model\n",
    "ridge_model_func = simple_models.get_Ridge_init_func(config['alpha'])\n",
    "\n",
    "# fit model\n",
    "roi_models, corr_train, corr_test, y_hats = simple_models.train_simple_model(ridge_model_func, \n",
    "                                                               dataset_train,\n",
    "                                                               dataset_test)\n",
    "\n",
    "# visaulization\n",
    "inference.corr_results_plot(labels_roi, corr_test)\n",
    "inference.make_visualization(y_prediction=y_hats,\n",
    "                             y_test=dataset_test[1].T, \n",
    "                             labels=labels_roi)\n",
    "\n",
    "print('Results for Linear model', config['alpha'])"
   ]
  },
  {
   "cell_type": "code",
   "execution_count": null,
   "id": "05c48c29-af34-43b9-bd19-ea33d152b0bf",
   "metadata": {},
   "outputs": [],
   "source": [
    "inference.corr_results_plot(labels_roi, corr_test)\n",
    "inference.make_visualization(y_prediction=y_hats,\n",
    "                             y_test=dataset_test[1].T, \n",
    "                             labels=labels_roi)"
   ]
  },
  {
   "cell_type": "code",
   "execution_count": null,
   "id": "95bf9dd5-bd24-4d98-a43c-af20283e8529",
   "metadata": {},
   "outputs": [],
   "source": []
  }
 ],
 "metadata": {
  "kernelspec": {
   "display_name": "myenv_torch",
   "language": "python",
   "name": "myenv_torch"
  },
  "language_info": {
   "codemirror_mode": {
    "name": "ipython",
    "version": 3
   },
   "file_extension": ".py",
   "mimetype": "text/x-python",
   "name": "python",
   "nbconvert_exporter": "python",
   "pygments_lexer": "ipython3",
   "version": "3.9.9"
  }
 },
 "nbformat": 4,
 "nbformat_minor": 5
}
