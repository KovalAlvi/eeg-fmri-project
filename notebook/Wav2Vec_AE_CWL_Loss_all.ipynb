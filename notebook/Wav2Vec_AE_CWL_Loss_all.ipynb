{
 "cells": [
  {
   "cell_type": "markdown",
   "id": "57334e36-39bf-4342-ab23-5bf0868237b9",
   "metadata": {
    "tags": []
   },
   "source": [
    "# Install libraries \n"
   ]
  },
  {
   "cell_type": "code",
   "execution_count": 1,
   "id": "7ab4de19-cc35-47c2-912c-d1dc3372c39f",
   "metadata": {},
   "outputs": [
    {
     "name": "stderr",
     "output_type": "stream",
     "text": [
      "/opt/conda/envs/myenv_torch/lib/python3.9/site-packages/nilearn/input_data/__init__.py:27: FutureWarning: The import path 'nilearn.input_data' is deprecated in version 0.9. Importing from 'nilearn.input_data' will be possible at least until release 0.13.0. Please import from 'nilearn.maskers' instead.\n",
      "  warnings.warn(message, FutureWarning)\n"
     ]
    }
   ],
   "source": [
    "import sys, os, json\n",
    "import mne, sklearn, wandb\n",
    "import numpy as np\n",
    "import pandas as pd\n",
    "\n",
    "from scipy.interpolate import interp1d\n",
    "from nilearn import datasets, image, masking, plotting\n",
    "from nilearn.input_data import NiftiLabelsMasker\n",
    "\n",
    "\n",
    "# animation part\n",
    "from IPython.display import HTML\n",
    "import matplotlib\n",
    "import matplotlib.pyplot as plt\n",
    "# from celluloid import Camera   # it is convinient method to animate\n",
    "from matplotlib import animation, rc\n",
    "from matplotlib.animation import FuncAnimation\n",
    "\n",
    "\n",
    "## torch libraries \n",
    "import torch\n",
    "import torch.nn as nn\n",
    "import torch.optim as optim\n",
    "import torch.nn.functional as F\n",
    "from torch.utils.data import Dataset, TensorDataset\n",
    "from torch.utils.data import DataLoader, Subset\n",
    "\n",
    "from pytorch_model_summary import summary\n"
   ]
  },
  {
   "cell_type": "code",
   "execution_count": 2,
   "id": "68eacc99-823f-49be-80b1-b432a1833d83",
   "metadata": {},
   "outputs": [],
   "source": [
    "%load_ext autoreload\n",
    "%autoreload 2\n",
    "sys.path.insert(1, os.path.realpath(os.path.pardir))\n",
    "\n",
    "from utils import get_datasets\n",
    "from utils import preproc\n",
    "from utils import torch_dataset\n",
    "from utils import train_utils\n",
    "from utils import inference\n",
    "from utils.models_arch import autoencoder_new"
   ]
  },
  {
   "cell_type": "markdown",
   "id": "0974b520-53af-4aae-8475-ad9864cc86f0",
   "metadata": {},
   "source": [
    "# Set all hyperparameters\n",
    "- Cuda and GPU.\n",
    "- Parameters of dataset. \n",
    "- random seed( if necessary). \n"
   ]
  },
  {
   "cell_type": "code",
   "execution_count": 3,
   "id": "e9740a7b-6c36-471f-bafe-3361c4758086",
   "metadata": {},
   "outputs": [
    {
     "name": "stdout",
     "output_type": "stream",
     "text": [
      "True 4\n"
     ]
    }
   ],
   "source": [
    "# import random\n",
    "\n",
    "# torch.manual_seed(0)\n",
    "# random.seed(0)  # python operation seed\n",
    "# np.random.seed(0)\n",
    "\n",
    "# torch.backends.cudnn.benchmark = False\n",
    "# torch.backends.cudnn.deterministic = True\n",
    "\n",
    "print(torch.cuda.is_available(), torch.cuda.device_count())\n",
    "torch.cuda.set_device(1)"
   ]
  },
  {
   "cell_type": "code",
   "execution_count": 4,
   "id": "e68da9ec-be91-4cc8-b7d2-87c106d53ada",
   "metadata": {},
   "outputs": [],
   "source": [
    "config = dict(  \n",
    "                dataset_name = 'CWL', # CWL\n",
    "                new_fps=100, \n",
    "                freqs = np.logspace(np.log10(2), np.log10(99), 16), \n",
    "    \n",
    "                n_channels = 30, # 30 \n",
    "                n_roi = 6,\n",
    "                \n",
    "                bold_delay = 5,\n",
    "                to_many = True,\n",
    "                random_subsample = True,\n",
    "                sample_per_epoch = 2048, \n",
    "                WINDOW_SIZE = 2048,\n",
    "                    \n",
    "                optimizer='adam',\n",
    "                lr=3e-4,\n",
    "                weight_decay=0, \n",
    "                batch_size=16, \n",
    "                \n",
    "                preproc_type = 'dB_log',\n",
    "                loss_function = 'mse_corr_manifold', \n",
    "                model_type = '1D_CNN_AE_wav2vec2'\n",
    "                )\n",
    "\n",
    "\n",
    "hp_autoencoder = dict(n_electrodes=config['n_channels'],\n",
    "                      n_freqs = len(config['freqs']),\n",
    "                      n_channels_out = config['n_roi'],\n",
    "\n",
    "                     channels = [128, 128, 128, 128], \n",
    "                     kernel_sizes=[3, 3, 3],\n",
    "                     strides=[8, 4, 4], \n",
    "                     dilation=[1, 1, 1], \n",
    "                     decoder_reduce=4\n",
    "                     )\n",
    "\n",
    "\n",
    "config = {**hp_autoencoder, **config}\n",
    "\n",
    "params_train = {'batch_size': config['batch_size'],\n",
    "                'shuffle': True,\n",
    "                'num_workers': 0}\n",
    "\n",
    "params_val = {'batch_size': config['batch_size'],\n",
    "              'shuffle': False}"
   ]
  },
  {
   "cell_type": "markdown",
   "id": "5e1a1c42-68f1-4afa-9943-02a441b15e07",
   "metadata": {
    "tags": []
   },
   "source": [
    "# Upload preprocessed dataset from np files. \n",
    "It should accelerate speed of experiments."
   ]
  },
  {
   "cell_type": "code",
   "execution_count": 5,
   "id": "951efaec-ba20-48c9-94aa-588f3f5b13e8",
   "metadata": {},
   "outputs": [
    {
     "name": "stdout",
     "output_type": "stream",
     "text": [
      "Size of train dataset: (30, 16, 20690) (6, 20690)\n",
      "Size of test dataset: (30, 16, 5500) (6, 5500)\n"
     ]
    }
   ],
   "source": [
    "with open(\"../data/processed/labels_roi_6.json\", 'r') as f:\n",
    "    labels_roi = json.load(f)\n",
    "\n",
    "\n",
    "if config['dataset_name']=='CWL':\n",
    "    dataset_path = '../data/processed/CWL/trio1_100_hz_6_roi_2_99_freqs.npz'\n",
    "    \n",
    "elif config['dataset_name']=='NODDI':\n",
    "    dataset_path = '../data/processed/NODDI/32_100_hz_6_roi_2_99_freqs.npz'\n",
    "else:\n",
    "    print('no such dataset')\n",
    "\n",
    "\n",
    "# download data\n",
    "data = np.load(dataset_path)\n",
    "\n",
    "train_dataset_prep = (data['x_train'], data['y_train'])\n",
    "test_dataset_prep = (data['x_test'], data['y_test'])\n",
    "\n",
    "\n",
    "# apply time dealy corrected\n",
    "train_dataset_prep = preproc.bold_time_delay_align(train_dataset_prep, \n",
    "                                                   config['new_fps'],\n",
    "                                                   config['bold_delay'])\n",
    "test_dataset_prep = preproc.bold_time_delay_align(test_dataset_prep, \n",
    "                                                  config['new_fps'],\n",
    "                                                  config['bold_delay'])\n",
    "\n",
    "\n",
    "print('Size of train dataset:', train_dataset_prep[0].shape, train_dataset_prep[1].shape)\n",
    "print('Size of test dataset:', test_dataset_prep[0].shape, test_dataset_prep[1].shape)\n",
    "\n",
    "# torch dataset creation \n",
    "torch_dataset_train = torch_dataset.CreateDataset_eeg_fmri(train_dataset_prep, \n",
    "                                                            random_sample=config['random_subsample'], \n",
    "                                                            sample_per_epoch=config['sample_per_epoch'], \n",
    "                                                            to_many=config['to_many'], \n",
    "                                                            window_size = config['WINDOW_SIZE'])\n",
    "\n",
    "torch_dataset_test = torch_dataset.CreateDataset_eeg_fmri(test_dataset_prep, \n",
    "                                                            random_sample=False, \n",
    "                                                            sample_per_epoch=None, \n",
    "                                                            to_many=config['to_many'], \n",
    "                                                            window_size = config['WINDOW_SIZE'])\n",
    "# because you do not have strid for val data. \n",
    "torch_dataset_test = Subset(torch_dataset_test, np.arange(len(torch_dataset_test))[::100])\n",
    "\n",
    "# init dataloaders for training\n",
    "train_loader = torch.utils.data.DataLoader(torch_dataset_train, **params_train)\n",
    "val_loader = torch.utils.data.DataLoader(torch_dataset_test, **params_val)\n",
    "\n",
    "\n"
   ]
  },
  {
   "cell_type": "markdown",
   "id": "a9ff0863-786a-4c24-9130-c997833869c1",
   "metadata": {},
   "source": [
    "# Init Model, Loss, optimizers"
   ]
  },
  {
   "cell_type": "code",
   "execution_count": 6,
   "id": "fdbf8773-4974-4ee4-bf7a-758c704f4192",
   "metadata": {},
   "outputs": [
    {
     "name": "stdout",
     "output_type": "stream",
     "text": [
      "-----------------------------------------------------------------------\n",
      "      Layer (type)        Output Shape         Param #     Tr. Param #\n",
      "=======================================================================\n",
      "       ConvBlock-1      [4, 128, 2048]         184,576         184,576\n",
      "       ConvBlock-2       [4, 128, 256]          49,408          49,408\n",
      "       ConvBlock-3        [4, 128, 64]          49,408          49,408\n",
      "       ConvBlock-4        [4, 128, 16]          49,408          49,408\n",
      "     UpConvBlock-5         [4, 32, 64]          12,352          12,352\n",
      "     UpConvBlock-6        [4, 32, 256]           3,136           3,136\n",
      "     UpConvBlock-7       [4, 32, 2048]           3,136           3,136\n",
      "          Conv1d-8        [4, 6, 2048]             198             198\n",
      "=======================================================================\n",
      "Total params: 351,622\n",
      "Trainable params: 351,622\n",
      "Non-trainable params: 0\n",
      "-----------------------------------------------------------------------\n"
     ]
    }
   ],
   "source": [
    "model = autoencoder_new.AutoEncoder1D(**hp_autoencoder)\n",
    "\n",
    "print(summary(model, torch.zeros(4, config['n_channels'], \n",
    "                                 len(config['freqs']),\n",
    "                                 config['WINDOW_SIZE']), show_input=False))\n"
   ]
  },
  {
   "cell_type": "markdown",
   "id": "257e4982-344f-4d44-8d7e-445f4c4a5662",
   "metadata": {},
   "source": [
    "# Model training"
   ]
  },
  {
   "cell_type": "code",
   "execution_count": null,
   "id": "28d21727-423a-4872-8bec-82fbd3b4fb0f",
   "metadata": {},
   "outputs": [
    {
     "name": "stderr",
     "output_type": "stream",
     "text": [
      "Failed to detect the name of this notebook, you can set it manually with the WANDB_NOTEBOOK_NAME environment variable to enable code saving.\n",
      "\u001b[34m\u001b[1mwandb\u001b[0m: Currently logged in as: \u001b[33mkoval_alvi\u001b[0m (use `wandb login --relogin` to force relogin)\n",
      "\u001b[34m\u001b[1mwandb\u001b[0m: wandb version 0.12.11 is available!  To upgrade, please run:\n",
      "\u001b[34m\u001b[1mwandb\u001b[0m:  $ pip install wandb --upgrade\n"
     ]
    },
    {
     "data": {
      "text/html": [
       "\n",
       "                    Syncing run <strong><a href=\"https://wandb.ai/koval_alvi/eeg_fmri/runs/1ncjd8uh\" target=\"_blank\">bumbleberry-cobbler-195</a></strong> to <a href=\"https://wandb.ai/koval_alvi/eeg_fmri\" target=\"_blank\">Weights & Biases</a> (<a href=\"https://docs.wandb.com/integrations/jupyter.html\" target=\"_blank\">docs</a>).<br/>\n",
       "\n",
       "                "
      ],
      "text/plain": [
       "<IPython.core.display.HTML object>"
      ]
     },
     "metadata": {},
     "output_type": "display_data"
    },
    {
     "name": "stdout",
     "output_type": "stream",
     "text": [
      "{'n_electrodes': 30, 'n_freqs': 16, 'n_channels_out': 6, 'channels': [128, 128, 128, 128], 'kernel_sizes': [3, 3, 3], 'strides': [8, 4, 4], 'dilation': [1, 1, 1], 'decoder_reduce': 4, 'dataset_name': 'CWL', 'new_fps': 100, 'freqs': array([ 2.        ,  2.59420132,  3.36494024,  4.3646662 ,  5.6614114 ,\n",
      "        7.34342046,  9.52515552, 12.3550855 , 16.02578954, 20.78706217,\n",
      "       26.96291204, 34.97361097, 45.36429384, 58.84205542, 76.32406886,\n",
      "       99.        ]), 'n_channels': 30, 'n_roi': 6, 'bold_delay': 5, 'to_many': True, 'random_subsample': True, 'sample_per_epoch': 2048, 'WINDOW_SIZE': 2048, 'optimizer': 'adam', 'lr': 0.0003, 'weight_decay': 0, 'batch_size': 16, 'preproc_type': 'dB_log', 'loss_function': 'mse_corr_manifold', 'model_type': '1D_CNN_AE_wav2vec2'}\n",
      "AutoEncoder1D(\n",
      "  (spatial_reduce): ConvBlock(\n",
      "    (conv1d): Conv1d(480, 128, kernel_size=(3,), stride=(1,), padding=same, bias=False)\n",
      "    (norm): LayerNorm((128,), eps=1e-05, elementwise_affine=True)\n",
      "    (activation): GELU()\n",
      "    (drop): Dropout(p=0.3, inplace=False)\n",
      "    (downsample): MaxPool1d(kernel_size=1, stride=1, padding=0, dilation=1, ceil_mode=False)\n",
      "  )\n",
      "  (downsample_blocks): ModuleList(\n",
      "    (0): ConvBlock(\n",
      "      (conv1d): Conv1d(128, 128, kernel_size=(3,), stride=(1,), padding=same, bias=False)\n",
      "      (norm): LayerNorm((128,), eps=1e-05, elementwise_affine=True)\n",
      "      (activation): GELU()\n",
      "      (drop): Dropout(p=0.3, inplace=False)\n",
      "      (downsample): MaxPool1d(kernel_size=8, stride=8, padding=0, dilation=1, ceil_mode=False)\n",
      "    )\n",
      "    (1): ConvBlock(\n",
      "      (conv1d): Conv1d(128, 128, kernel_size=(3,), stride=(1,), padding=same, bias=False)\n",
      "      (norm): LayerNorm((128,), eps=1e-05, elementwise_affine=True)\n",
      "      (activation): GELU()\n",
      "      (drop): Dropout(p=0.3, inplace=False)\n",
      "      (downsample): MaxPool1d(kernel_size=4, stride=4, padding=0, dilation=1, ceil_mode=False)\n",
      "    )\n",
      "    (2): ConvBlock(\n",
      "      (conv1d): Conv1d(128, 128, kernel_size=(3,), stride=(1,), padding=same, bias=False)\n",
      "      (norm): LayerNorm((128,), eps=1e-05, elementwise_affine=True)\n",
      "      (activation): GELU()\n",
      "      (drop): Dropout(p=0.3, inplace=False)\n",
      "      (downsample): MaxPool1d(kernel_size=4, stride=4, padding=0, dilation=1, ceil_mode=False)\n",
      "    )\n",
      "  )\n",
      "  (upsample_blocks): ModuleList(\n",
      "    (0): UpConvBlock(\n",
      "      (conv_block): ConvBlock(\n",
      "        (conv1d): Conv1d(128, 32, kernel_size=(3,), stride=(1,), padding=same, bias=False)\n",
      "        (norm): LayerNorm((32,), eps=1e-05, elementwise_affine=True)\n",
      "        (activation): GELU()\n",
      "        (drop): Dropout(p=0.3, inplace=False)\n",
      "        (downsample): MaxPool1d(kernel_size=1, stride=1, padding=0, dilation=1, ceil_mode=False)\n",
      "      )\n",
      "      (upsample): Upsample(scale_factor=4.0, mode=linear)\n",
      "    )\n",
      "    (1): UpConvBlock(\n",
      "      (conv_block): ConvBlock(\n",
      "        (conv1d): Conv1d(32, 32, kernel_size=(3,), stride=(1,), padding=same, bias=False)\n",
      "        (norm): LayerNorm((32,), eps=1e-05, elementwise_affine=True)\n",
      "        (activation): GELU()\n",
      "        (drop): Dropout(p=0.3, inplace=False)\n",
      "        (downsample): MaxPool1d(kernel_size=1, stride=1, padding=0, dilation=1, ceil_mode=False)\n",
      "      )\n",
      "      (upsample): Upsample(scale_factor=4.0, mode=linear)\n",
      "    )\n",
      "    (2): UpConvBlock(\n",
      "      (conv_block): ConvBlock(\n",
      "        (conv1d): Conv1d(32, 32, kernel_size=(3,), stride=(1,), padding=same, bias=False)\n",
      "        (norm): LayerNorm((32,), eps=1e-05, elementwise_affine=True)\n",
      "        (activation): GELU()\n",
      "        (drop): Dropout(p=0.3, inplace=False)\n",
      "        (downsample): MaxPool1d(kernel_size=1, stride=1, padding=0, dilation=1, ceil_mode=False)\n",
      "      )\n",
      "      (upsample): Upsample(scale_factor=8.0, mode=linear)\n",
      "    )\n",
      "  )\n",
      "  (conv1x1_one): Conv1d(32, 6, kernel_size=(1,), stride=(1,), padding=same)\n",
      ")\n",
      "-----------------------------------------------------------------------\n",
      "      Layer (type)        Output Shape         Param #     Tr. Param #\n",
      "=======================================================================\n",
      "       ConvBlock-1      [4, 128, 2048]         184,576         184,576\n",
      "       ConvBlock-2       [4, 128, 256]          49,408          49,408\n",
      "       ConvBlock-3        [4, 128, 64]          49,408          49,408\n",
      "       ConvBlock-4        [4, 128, 16]          49,408          49,408\n",
      "     UpConvBlock-5         [4, 32, 64]          12,352          12,352\n",
      "     UpConvBlock-6        [4, 32, 256]           3,136           3,136\n",
      "     UpConvBlock-7       [4, 32, 2048]           3,136           3,136\n",
      "          Conv1d-8        [4, 6, 2048]             198             198\n",
      "=======================================================================\n",
      "Total params: 351,622\n",
      "Trainable params: 351,622\n",
      "Non-trainable params: 0\n",
      "-----------------------------------------------------------------------\n",
      "Starting Training of our model \n",
      "Number of samples 2048 \n",
      "Size of batch: 16 Number batches 128\n",
      "................................................................................................................................................................................................................................................................................................................................................................................................................................................................................................................................................................................................................................................................................................................................................................................................................................................................................................................................................................................................................................................................................................................................................................................................................................................................................................................................\n",
      "Epoch 10 train loss_0 : 0.781 val loss_0 : 7.22 train loss_1 : 0.818 val loss_1 : 0.228 train loss_2 : 0.297 val loss_2 : 1.98 train loss_3 : 1.3 val loss_3 : 5.47 \n",
      "................................................................................................................................................................................................................................................................................................................................................................................................................................................................................................................................................................................................................................................................................................................................................................................................................................................................................................................................................................................................................................................................................................................................................................................................................................................................................................................................\n",
      "Epoch 20 train loss_0 : 0.437 val loss_0 : 6.68 train loss_1 : 0.852 val loss_1 : 0.263 train loss_2 : 0.239 val loss_2 : 1.85 train loss_3 : 1.05 val loss_3 : 5.1 \n",
      "................................................................................................................................................................................................................................................................................................................................................................................................................................................................................................................................................................................................................................................................................................................................................................................................................................................................................................................................................................................................................................................................................................................................................................................................................................................................................................................................\n",
      "Epoch 30 train loss_0 : 0.285 val loss_0 : 6.54 train loss_1 : 0.866 val loss_1 : 0.266 train loss_2 : 0.215 val loss_2 : 1.81 train loss_3 : 0.935 val loss_3 : 4.99 \n",
      "................................................................................................................................................................................................................................................................................................................................................................................................................................................................................................................................................................................................................................................................................................................................................................................................................................................................................................................................................................................................................................................................................................................................................................................................................................................................................................................................\n",
      "Epoch 40 train loss_0 : 0.217 val loss_0 : 6.85 train loss_1 : 0.873 val loss_1 : 0.289 train loss_2 : 0.204 val loss_2 : 1.83 train loss_3 : 0.886 val loss_3 : 5.31 \n",
      "................................................................................................................................................................................................................................................................................................................................................................................................................................................................................................................................................................................................................................................................................................................................................................................................................................................................................................................................................................................................................................................................................................................................................................................................................................................................................................................................\n",
      "Epoch 50 train loss_0 : 0.151 val loss_0 : 6.91 train loss_1 : 0.878 val loss_1 : 0.243 train loss_2 : 0.194 val loss_2 : 1.75 train loss_3 : 0.835 val loss_3 : 5.41 \n",
      "................................................................................................................................................................................................................................................................................................................................................................................................................................................................................................................................................................................................................................................................................................................................................................................................................................................................................................................................................................................................................................................................................................................................................................................................................................................................................................................................\n",
      "Epoch 60 train loss_0 : 0.119 val loss_0 : 7.21 train loss_1 : 0.883 val loss_1 : 0.228 train loss_2 : 0.188 val loss_2 : 1.83 train loss_3 : 0.814 val loss_3 : 5.6 \n",
      "......................................................................................................................................................................................................................................................................................................................................................................................................................................................................................................................................................................................................................................................................................................................................................................................................................................................................................................................."
     ]
    }
   ],
   "source": [
    "n_runs = 3\n",
    "\n",
    "for i in range(n_runs):\n",
    "    \n",
    "    model = autoencoder_new.AutoEncoder1D(**hp_autoencoder)\n",
    "\n",
    "    loss_func = train_utils.make_complex_loss_function(mse_weight = 1, \n",
    "                                                       corr_weight = 1,\n",
    "                                                       manifold_weight = 1,\n",
    "                                                       bound=1)\n",
    "    train_step = train_utils.train_step\n",
    "\n",
    "    optimizer = optim.Adam(model.parameters(), \n",
    "                       lr=config['lr'], \n",
    "                       weight_decay=config['weight_decay'])\n",
    "    \n",
    "    \n",
    "    parameters = {\n",
    "        'EPOCHS': 250,\n",
    "        'model': model, \n",
    "        'train_loader': train_loader, \n",
    "        'val_loader': val_loader, \n",
    "        'loss_function': loss_func,\n",
    "        'train_step': train_step,\n",
    "        'optimizer': optimizer, \n",
    "        'device': 'cuda', \n",
    "        'raw_test_data': test_dataset_prep,\n",
    "        'show_info': 10, \n",
    "        'num_losses': 5,\n",
    "        'labels': labels_roi,\n",
    "        'inference_function': inference.model_inference_function, \n",
    "        'to_many': config['to_many']\n",
    "    }\n",
    "\n",
    "\n",
    "\n",
    "    path_to_save_wandb = 'common/koval_alvi/Checkpoints/wandb_brain'\n",
    "    \n",
    "    \n",
    "    with wandb.init(project=\"eeg_fmri\", config=config, save_code=True):\n",
    "        \n",
    "        wandb.define_metric(\"val/corr_mean\", summary=\"max\")\n",
    "\n",
    "        if i == 0: \n",
    "            exp_name = wandb.run.name\n",
    "        \n",
    "        wandb.run.name = exp_name +'_run_' + str(i)\n",
    "        \n",
    "        print(config)\n",
    "        print(parameters['model'])\n",
    "        print(summary(model, torch.zeros(4, config['n_channels'],\n",
    "                                         len(config['freqs']), config['WINDOW_SIZE']), show_input=False))\n",
    "        \n",
    "        model = train_utils.wanb_train_regression(**parameters)\n",
    "        "
   ]
  },
  {
   "cell_type": "code",
   "execution_count": null,
   "id": "c923ea3f-b6c9-495e-bea2-36552a50cb38",
   "metadata": {},
   "outputs": [],
   "source": [
    "\n"
   ]
  },
  {
   "cell_type": "markdown",
   "id": "48e40a09-12c2-43b9-957f-8b37d0a0daa8",
   "metadata": {},
   "source": [
    "# "
   ]
  }
 ],
 "metadata": {
  "kernelspec": {
   "display_name": "myenv_torch",
   "language": "python",
   "name": "myenv_torch"
  },
  "language_info": {
   "codemirror_mode": {
    "name": "ipython",
    "version": 3
   },
   "file_extension": ".py",
   "mimetype": "text/x-python",
   "name": "python",
   "nbconvert_exporter": "python",
   "pygments_lexer": "ipython3",
   "version": "3.9.9"
  }
 },
 "nbformat": 4,
 "nbformat_minor": 5
}
