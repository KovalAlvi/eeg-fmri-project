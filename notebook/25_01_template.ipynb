{
 "cells": [
  {
   "cell_type": "markdown",
   "id": "4319a860-a481-4e05-8471-513cd3191428",
   "metadata": {},
   "source": [
    "# To do \n",
    "- add choosing gpus \n",
    "- add random seed for all ( from server code) ( add it to github) \n",
    "- implement baseline transformer  \n",
    "- start train with it \n",
    "- connect with git cleaned version. The smartest version of my code and thoughts . \n",
    "- make report "
   ]
  },
  {
   "cell_type": "code",
   "execution_count": null,
   "id": "1fe1ac56-9e1d-4820-80b0-61c704c293e9",
   "metadata": {},
   "outputs": [],
   "source": []
  },
  {
   "cell_type": "code",
   "execution_count": null,
   "id": "1c363d51-aded-4323-8aea-da734c5c4127",
   "metadata": {},
   "outputs": [],
   "source": []
  },
  {
   "cell_type": "markdown",
   "id": "57334e36-39bf-4342-ab23-5bf0868237b9",
   "metadata": {
    "tags": []
   },
   "source": [
    "# Install libraries \n"
   ]
  },
  {
   "cell_type": "code",
   "execution_count": 18,
   "id": "7ab4de19-cc35-47c2-912c-d1dc3372c39f",
   "metadata": {},
   "outputs": [],
   "source": [
    "import sys, os\n",
    "\n",
    "\n",
    "import sklearn\n",
    "import mne\n",
    "import wandb\n",
    "sys.path.insert(1, os.path.realpath(os.path.pardir))\n",
    "\n",
    "\n",
    "\n",
    "from nilearn import image\n",
    "from nilearn import plotting\n",
    "\n",
    "import numpy as np\n",
    "import matplotlib.pyplot as plt\n",
    "\n",
    "import mne\n",
    "import numpy as np\n",
    "import pandas as pd\n",
    "import matplotlib\n",
    "import matplotlib.pyplot as plt\n",
    "\n",
    "from scipy.interpolate import interp1d\n",
    "from nilearn import datasets, image, masking\n",
    "from nilearn.input_data import NiftiLabelsMasker\n",
    "\n",
    "\n",
    "# animation part\n",
    "from IPython.display import HTML\n",
    "# from celluloid import Camera   # it is convinient method to animate\n",
    "from matplotlib import animation, rc\n",
    "from matplotlib.animation import FuncAnimation\n",
    "\n",
    "\n",
    "\n",
    "## torch libraries \n",
    "\n",
    "import torch\n",
    "\n",
    "import torch.nn as nn\n",
    "import torch.optim as optim\n",
    "import torch.nn.functional as F\n",
    "from torch.utils.data import Dataset, TensorDataset\n",
    "from torch.utils.data import DataLoader, Subset\n",
    "\n",
    "from pytorch_model_summary import summary\n"
   ]
  },
  {
   "cell_type": "code",
   "execution_count": 19,
   "id": "68eacc99-823f-49be-80b1-b432a1833d83",
   "metadata": {},
   "outputs": [
    {
     "name": "stdout",
     "output_type": "stream",
     "text": [
      "The autoreload extension is already loaded. To reload it, use:\n",
      "  %reload_ext autoreload\n"
     ]
    }
   ],
   "source": [
    "%load_ext autoreload"
   ]
  },
  {
   "cell_type": "code",
   "execution_count": 20,
   "id": "dcdcbb2f-d0ac-42a5-8cf7-95094a4e4877",
   "metadata": {},
   "outputs": [],
   "source": [
    "%autoreload 2"
   ]
  },
  {
   "cell_type": "code",
   "execution_count": 21,
   "id": "f51a74e6-f6e7-42c1-a921-e7777caad5da",
   "metadata": {},
   "outputs": [],
   "source": [
    "from utils import get_datasets\n",
    "from utils import preproc\n",
    "from utils import torch_dataset\n",
    "from utils import train_utils\n",
    "from utils import inference\n",
    "from utils.models_arch import autoencoder_v3"
   ]
  },
  {
   "cell_type": "markdown",
   "id": "0974b520-53af-4aae-8475-ad9864cc86f0",
   "metadata": {},
   "source": [
    "# Set all hyperparameters\n",
    "Parameters of dataset, random seed and so on \n"
   ]
  },
  {
   "cell_type": "markdown",
   "id": "e2ca938b-c4c3-46b1-b1bc-205de15792bf",
   "metadata": {},
   "source": [
    "# Upload dataset \n",
    "Upload EEG fMRI and labels "
   ]
  },
  {
   "cell_type": "code",
   "execution_count": 22,
   "id": "9c8bd9c5-9f04-4867-9504-931507e4dd91",
   "metadata": {},
   "outputs": [
    {
     "name": "stdout",
     "output_type": "stream",
     "text": [
      "ALL path:  ../data/eyes_open_closed_dataset/trio1/CWL_Data/eeg/in-scan/trio1_mrcorrected_eoec_in-scan_hpump-off.set ../data/eyes_open_closed_dataset/trio1/CWL_Data/mri/epi_normalized/rwatrio1_eoec_in-scan_hpump-off.nii ../data/eyes_open_closed_dataset/trio1/CWL_Data/mri/epi_motionparams/rp_atrio1_eoec_in-scan_hpump-off.txt\n"
     ]
    },
    {
     "name": "stderr",
     "output_type": "stream",
     "text": [
      "/home/user/common/koval_alvi/fmri_eeg_project/utils/get_datasets.py:213: RuntimeWarning: Data will be preloaded. preload=False or a string preload is not supported when the data is stored in the .set file\n",
      "/home/user/common/koval_alvi/fmri_eeg_project/utils/get_datasets.py:213: RuntimeWarning: The data contains 'boundary' events, indicating data discontinuities. Be cautious of filtering and epoching around these events.\n",
      "/home/user/common/koval_alvi/fmri_eeg_project/utils/get_datasets.py:171: ParserWarning: Falling back to the 'python' engine because the 'c' engine does not support regex separators (separators > 1 char and different from '\\s+' are interpreted as regex); you can avoid this warning by specifying engine='python'.\n"
     ]
    },
    {
     "name": "stdout",
     "output_type": "stream",
     "text": [
      "Dimension of our EEG data:  (303601, 31)\n",
      "Dimension of our fMRi data:  (61, 72, 61, 146)\n",
      "Dimension of our fMRi Roi data:  (143, 22)\n",
      "fMRI info :  1.95\n",
      "RoI:  ['Left Cerebral White Matter', 'Left Cerebral Cortex ', 'Left Lateral Ventricle', 'Left Thalamus', 'Left Caudate', 'Left Putamen', 'Left Pallidum', 'Brain-Stem', 'Left Hippocampus', 'Left Amygdala', 'Left Accumbens', 'Right Cerebral White Matter', 'Right Cerebral Cortex ', 'Right Lateral Ventricle', 'Right Thalamus', 'Right Caudate', 'Right Putamen', 'Right Pallidum', 'Right Hippocampus', 'Right Amygdala', 'Right Accumbens']\n"
     ]
    }
   ],
   "source": [
    "patient = 'trio1'\n",
    "path_to_dataset = '../data/eyes_open_closed_dataset/'\n",
    "dataset_name = 'CWL' # \n",
    "remove_confounds = True\n",
    "# common/koval_alvi/fmri_eeg_project/\n",
    "\n",
    "\n",
    "df_eeg, df_fmri, labels_roi = get_datasets.download_cwl_dataset(patient, path_to_dataset, \n",
    "                                                                    remove_confounds=remove_confounds,\n",
    "                                                                    verbose=True)\n",
    "df_eeg_align, df_fmri_interp, fps = get_datasets.interpolate_df_eeg_fmri(df_eeg, df_fmri)"
   ]
  },
  {
   "cell_type": "code",
   "execution_count": 23,
   "id": "e44e74af-e1c1-4849-a843-628157d7e91f",
   "metadata": {
    "tags": []
   },
   "outputs": [],
   "source": [
    "# patient = '32'\n",
    "# path_to_dataset = '../data/NODDI_dataset_light/'\n",
    "# dataset_name = 'NODDI'\n",
    "# remove_confounds = True\n",
    "\n",
    "\n",
    "\n",
    "# df_eeg, df_fmri, labels_roi = dataset_noddi.download_bids_noddi_dataset(patient, path_to_dataset, \n",
    "#                                                                     remove_confounds=remove_confounds,\n",
    "#                                                                     verbose=True)\n",
    "# df_eeg_align, df_fmri_interp, fps = dataset_noddi.interpolate_df_eeg_fmri(df_eeg, df_fmri)"
   ]
  },
  {
   "cell_type": "markdown",
   "id": "cf611c37-4214-49d4-b16b-0fd9c0ab062a",
   "metadata": {},
   "source": [
    "# Process data\n",
    "- divide on train and test \n",
    "- Process data separately\n",
    "- apply bold delay correction"
   ]
  },
  {
   "cell_type": "code",
   "execution_count": 7,
   "id": "e68da9ec-be91-4cc8-b7d2-87c106d53ada",
   "metadata": {},
   "outputs": [],
   "source": [
    "config = dict(  \n",
    "                dataset_name = dataset_name,\n",
    "                fps = fps,\n",
    "                new_fps=250, \n",
    "                n_channels = 30,\n",
    "                n_roi = 21,\n",
    "                test_sec = 60, # in seconds.\n",
    "                freqs = np.linspace(2, 100, 16), \n",
    "                \n",
    "                \n",
    "                bold_delay = 5,\n",
    "                to_many = True,\n",
    "                random_subsample = True,\n",
    "                sample_per_epoch = 25600, \n",
    "                WINDOW_SIZE = 1024,\n",
    "                    \n",
    "                optimizer='adam',\n",
    "                lr=0.001,\n",
    "                weight_decay=0.00001, \n",
    "                batch_size=512, \n",
    "\n",
    "                loss_function = 'mse', \n",
    "                model_type = '1D_CNN_AE_changed'\n",
    "                )\n",
    "\n",
    "\n",
    "hp_autoencoder = dict(n_electrodes=config['n_channels'],\n",
    "                      n_freqs = len(config['freqs']),\n",
    "                      n_channels_out = config['n_roi'],\n",
    "                      n_res_block=0, \n",
    "                      channels=[32, 32, 64, 64], \n",
    "                      kernel_sizes=[15, 11, 5, 5],\n",
    "                      strides=[8, 8, 4]\n",
    "                     )\n",
    "\n",
    "\n",
    "config = {**hp_autoencoder, **config}\n",
    "\n",
    "params_train = {'batch_size': config['batch_size'],\n",
    "                'shuffle': True,\n",
    "                'num_workers': 0}\n",
    "\n",
    "params_val = {'batch_size': config['batch_size'],\n",
    "              'shuffle': False}"
   ]
  },
  {
   "cell_type": "code",
   "execution_count": 8,
   "id": "95232af6-1019-4660-85e8-b243008a47e9",
   "metadata": {},
   "outputs": [
    {
     "data": {
      "text/plain": [
       "(276900, 31)"
      ]
     },
     "execution_count": 8,
     "metadata": {},
     "output_type": "execute_result"
    }
   ],
   "source": [
    "df_eeg_align.shape"
   ]
  },
  {
   "cell_type": "code",
   "execution_count": 24,
   "id": "b5b8177e-0789-4d1a-a86b-2dbd293e2a6e",
   "metadata": {},
   "outputs": [],
   "source": [
    "eeg_np = df_eeg_align.drop(['time'], axis=1).to_numpy().T\n",
    "fmri_np = df_fmri_interp.drop(['time'], axis=1).to_numpy().T"
   ]
  },
  {
   "cell_type": "code",
   "execution_count": 26,
   "id": "aab4e2f9-5fbe-4648-8081-12cf1d5d0b17",
   "metadata": {},
   "outputs": [
    {
     "data": {
      "text/plain": [
       "((30, 276900), (21, 276900))"
      ]
     },
     "execution_count": 26,
     "metadata": {},
     "output_type": "execute_result"
    }
   ],
   "source": [
    "eeg_np.shape, fmri_np.shape"
   ]
  },
  {
   "cell_type": "code",
   "execution_count": 52,
   "id": "903e1d04-2b41-47df-8bed-fb87de176304",
   "metadata": {},
   "outputs": [],
   "source": []
  },
  {
   "cell_type": "code",
   "execution_count": 60,
   "id": "35b31fe8-b215-429f-95d4-962a70c82f3f",
   "metadata": {},
   "outputs": [],
   "source": []
  },
  {
   "cell_type": "code",
   "execution_count": 63,
   "id": "a7e7e10a-55a5-4bd9-8831-c58a876b5aa5",
   "metadata": {},
   "outputs": [
    {
     "data": {
      "text/plain": [
       "(30, 216900)"
      ]
     },
     "execution_count": 63,
     "metadata": {},
     "output_type": "execute_result"
    }
   ],
   "source": [
    "dataset_train_scaled[0].shape"
   ]
  },
  {
   "cell_type": "code",
   "execution_count": 68,
   "id": "93b37066-36f3-4901-ad91-b6e2ec4c301d",
   "metadata": {},
   "outputs": [
    {
     "ename": "AttributeError",
     "evalue": "module 'utils.preproc' has no attribute 'downsample_dataset'",
     "output_type": "error",
     "traceback": [
      "\u001b[0;31m---------------------------------------------------------------------------\u001b[0m",
      "\u001b[0;31mAttributeError\u001b[0m                            Traceback (most recent call last)",
      "Input \u001b[0;32mIn [68]\u001b[0m, in \u001b[0;36m<module>\u001b[0;34m\u001b[0m\n\u001b[0;32m----> 1\u001b[0m dataset_train_scaled \u001b[38;5;241m=\u001b[39m \u001b[43mpreproc\u001b[49m\u001b[38;5;241;43m.\u001b[39;49m\u001b[43mdownsample_dataset\u001b[49m(dataset_train, \n\u001b[1;32m      2\u001b[0m                                                   factor \u001b[38;5;241m=\u001b[39m config[\u001b[38;5;124m'\u001b[39m\u001b[38;5;124mfps\u001b[39m\u001b[38;5;124m'\u001b[39m]\u001b[38;5;241m/\u001b[39m\u001b[38;5;241m/\u001b[39mconfig[\u001b[38;5;124m'\u001b[39m\u001b[38;5;124mnew_fps\u001b[39m\u001b[38;5;124m'\u001b[39m])\n",
      "\u001b[0;31mAttributeError\u001b[0m: module 'utils.preproc' has no attribute 'downsample_dataset'"
     ]
    }
   ],
   "source": [
    "dataset_train_scaled = preproc.downsample_dataset(dataset_train, \n",
    "                                                  factor = config['fps']//config['new_fps'])"
   ]
  },
  {
   "cell_type": "code",
   "execution_count": 51,
   "id": "6eb251ba-31de-4615-98f1-51d72adbd759",
   "metadata": {},
   "outputs": [
    {
     "data": {
      "text/plain": [
       "[<matplotlib.lines.Line2D at 0x7f3f6ce68e20>]"
      ]
     },
     "execution_count": 51,
     "metadata": {},
     "output_type": "execute_result"
    },
    {
     "data": {
      "image/png": "[encoded data removed]",
      "text/plain": [
       "<Figure size 432x288 with 1 Axes>"
      ]
     },
     "metadata": {
      "needs_background": "light"
     },
     "output_type": "display_data"
    }
   ],
   "source": [
    "x = np.arange(0, 112)\n",
    "lenght = len(x)\n",
    "plt.plot(x, eeg_np[0][x])\n",
    "plt.plot(x[::4], eeg_scaled[0][:lenght//4], '*')\n"
   ]
  },
  {
   "cell_type": "code",
   "execution_count": 30,
   "id": "3d092ff2-b7ac-4303-b04b-6d7e320269d0",
   "metadata": {},
   "outputs": [
    {
     "data": {
      "text/plain": [
       "(30, 69225)"
      ]
     },
     "execution_count": 30,
     "metadata": {},
     "output_type": "execute_result"
    }
   ],
   "source": [
    "eeg_scaled.shape"
   ]
  },
  {
   "cell_type": "code",
   "execution_count": 9,
   "id": "f0b0dd54-5064-4576-b1ab-f911d7aa45cb",
   "metadata": {},
   "outputs": [],
   "source": [
    "# delete time columns. \n",
    "# reshape time, ch -> [ch, time]\n"
   ]
  },
  {
   "cell_type": "code",
   "execution_count": 57,
   "id": "951efaec-ba20-48c9-94aa-588f3f5b13e8",
   "metadata": {},
   "outputs": [
    {
     "name": "stdout",
     "output_type": "stream",
     "text": [
      "Size of train dataset: eeg (30, 216900) | fmri (21, 216900)\n",
      "Size of test dataset: eeg (30, 60000) | fmri (21, 60000)\n",
      "Size of eeg features (30, 16, 216900) | fmri (21, 216900)\n",
      "Size of eeg features (30, 16, 60000) | fmri (21, 60000)\n"
     ]
    }
   ],
   "source": [
    "eeg_np = df_eeg_align.drop(['time'], axis=1).to_numpy().T\n",
    "fmri_np = df_fmri_interp.drop(['time'], axis=1).to_numpy().T\n",
    "\n",
    "dataset_train, dataset_test = preproc.divide_train_test(eeg_np, fmri_np,\n",
    "                                                        fps=config['fps'], \n",
    "                                                        test_sec=config['test_sec'])\n",
    "\n",
    "\n",
    "\n",
    "train_dataset_prep, freqs, inp_stats_train, out_stats_train = preproc.preproc_dataset(dataset_train, \n",
    "                                                                                      fps=config['fps'], \n",
    "                                                                                      freqs=config['freqs'], \n",
    "                                                                                      inp_means_stds=None, \n",
    "                                                                                      out_means_stds=None)\n",
    "test_dataset_prep, freqs, inp_stats_test, out_stats_test = preproc.preproc_dataset(dataset_test,\n",
    "                                                                                    fps = config['fps'],\n",
    "                                                                                    freqs = config['freqs'],                                                                    \n",
    "                                                                                    inp_means_stds=inp_stats_train, \n",
    "                                                                                    out_means_stds=out_stats_train)\n",
    "# downsample if needed \n",
    "ds_factor = config['fps']//config['new_fps']\n",
    "train_dataset_prep = preproc.downsample_dataset(train_dataset_prep, factor = ds_factor)\n",
    "test_dataset_prep = preproc.downsample_dataset(test_dataset_prep, factor = ds_factor)\n",
    "\n",
    "\n",
    "# apply time dealy corrected\n",
    "train_dataset_prep = preproc.bold_time_delay_align(train_dataset_prep, config['fps'], config['bold_delay'])\n",
    "test_dataset_prep = preproc.bold_time_delay_align(test_dataset_prep, config['fps'], config['bold_delay'])\n",
    "\n",
    "\n",
    "# torch dataset creation \n",
    "torch_dataset_train = torch_dataset.CreateDataset_eeg_fmri(train_dataset_prep, \n",
    "                                                            random_sample=config['random_subsample'], \n",
    "                                                            sample_per_epoch=config['sample_per_epoch'])\n",
    "\n",
    "torch_dataset_test = torch_dataset.CreateDataset_eeg_fmri(test_dataset_prep, \n",
    "                                                            random_sample=False, \n",
    "                                                            sample_per_epoch=None)\n",
    "\n",
    "# init dataloaders for training\n",
    "train_loader = torch.utils.data.DataLoader(torch_dataset_train, **params_train)\n",
    "val_loader = torch.utils.data.DataLoader(torch_dataset_test, **params_val)"
   ]
  },
  {
   "cell_type": "code",
   "execution_count": 11,
   "id": "fdbf8773-4974-4ee4-bf7a-758c704f4192",
   "metadata": {},
   "outputs": [
    {
     "name": "stdout",
     "output_type": "stream",
     "text": [
      "-------------------------------------------------------------------------\n",
      "      Layer (type)          Output Shape         Param #     Tr. Param #\n",
      "=========================================================================\n",
      "          Conv2d-1     [4, 16, 16, 1024]             496             496\n",
      "          Conv1d-2         [4, 32, 1024]           8,224           8,224\n",
      "         Block1D-3          [4, 32, 128]           5,536           5,536\n",
      "         Block1D-4           [4, 64, 16]          19,264          19,264\n",
      "         Block1D-5            [4, 64, 4]          21,312          21,312\n",
      "         Block1D-6            [4, 64, 4]          21,312          21,312\n",
      "          Conv1d-7            [4, 21, 4]           1,365           1,365\n",
      "        Upsample-8         [4, 21, 1024]               0               0\n",
      "=========================================================================\n",
      "Total params: 77,509\n",
      "Trainable params: 77,509\n",
      "Non-trainable params: 0\n",
      "-------------------------------------------------------------------------\n"
     ]
    },
    {
     "name": "stderr",
     "output_type": "stream",
     "text": [
      "/opt/conda/envs/myenv_torch/lib/python3.9/site-packages/torch/nn/functional.py:3631: UserWarning: Default upsampling behavior when mode=linear is changed to align_corners=False since 0.4.0. Please specify align_corners=True if the old behavior is desired. See the documentation of nn.Upsample for details.\n",
      "  warnings.warn(\n"
     ]
    }
   ],
   "source": [
    "model = autoencoder_v3.AutoEncoder1D(**hp_autoencoder)\n",
    "\n",
    "loss_func = train_utils.make_mse_loss()\n",
    "train_step = train_utils.train_step\n",
    "\n",
    "optimizer = optim.Adam(model.parameters(), \n",
    "                       lr=config['lr'], \n",
    "                       weight_decay=config['weight_decay'])\n",
    "\n",
    "\n",
    "print(summary(model, torch.zeros(4, config['n_channels'], len(config['freqs']), 1024), show_input=False))\n"
   ]
  },
  {
   "cell_type": "markdown",
   "id": "257e4982-344f-4d44-8d7e-445f4c4a5662",
   "metadata": {},
   "source": [
    "# Model training"
   ]
  },
  {
   "cell_type": "code",
   "execution_count": 12,
   "id": "28d21727-423a-4872-8bec-82fbd3b4fb0f",
   "metadata": {},
   "outputs": [
    {
     "name": "stderr",
     "output_type": "stream",
     "text": [
      "Failed to detect the name of this notebook, you can set it manually with the WANDB_NOTEBOOK_NAME environment variable to enable code saving.\n",
      "\u001b[34m\u001b[1mwandb\u001b[0m: Currently logged in as: \u001b[33mkoval_alvi\u001b[0m (use `wandb login --relogin` to force relogin)\n"
     ]
    },
    {
     "data": {
      "text/html": [
       "\n",
       "                    Syncing run <strong><a href=\"https://wandb.ai/koval_alvi/eeg_fmri/runs/27xj6wql\" target=\"_blank\">lunar-dragon-87</a></strong> to <a href=\"https://wandb.ai/koval_alvi/eeg_fmri\" target=\"_blank\">Weights & Biases</a> (<a href=\"https://docs.wandb.com/integrations/jupyter.html\" target=\"_blank\">docs</a>).<br/>\n",
       "\n",
       "                "
      ],
      "text/plain": [
       "<IPython.core.display.HTML object>"
      ]
     },
     "metadata": {},
     "output_type": "display_data"
    },
    {
     "name": "stdout",
     "output_type": "stream",
     "text": [
      "{'n_electrodes': 30, 'n_freqs': 16, 'n_channels_out': 21, 'n_res_block': 0, 'channels': [32, 32, 64, 64], 'kernel_sizes': [15, 11, 5, 5], 'strides': [8, 8, 4], 'dataset_name': 'CWL', 'fps': 1000, 'n_channels': 30, 'n_roi': 21, 'test_sec': 60, 'freqs': array([  2.        ,   8.53333333,  15.06666667,  21.6       ,\n",
      "        28.13333333,  34.66666667,  41.2       ,  47.73333333,\n",
      "        54.26666667,  60.8       ,  67.33333333,  73.86666667,\n",
      "        80.4       ,  86.93333333,  93.46666667, 100.        ]), 'bold_delay': 5, 'to_many': True, 'random_subsample': True, 'sample_per_epoch': 25600, 'WINDOW_SIZE': 1024, 'optimizer': 'adam', 'lr': 0.001, 'weight_decay': 1e-05, 'batch_size': 512, 'loss_function': 'mse', 'model_type': '1D_CNN_AE_changed'}\n",
      "AutoEncoder1D(\n",
      "  (spatial_reduce_2d): Conv2d(30, 16, kernel_size=(1, 1), stride=(1, 1))\n",
      "  (spatial_reduce): Conv1d(256, 32, kernel_size=(1,), stride=(1,))\n",
      "  (downsample_blocks): ModuleList(\n",
      "    (0): Block1D(\n",
      "      (downsample): AvgPool1d(kernel_size=(8,), stride=(8,), padding=(0,))\n",
      "      (conv1d): Conv1d(32, 32, kernel_size=(1,), stride=(1,))\n",
      "      (activation): GELU()\n",
      "      (conv_branch): Sequential(\n",
      "        (0): SepConv1D(\n",
      "          (depthwise): Conv1d(32, 64, kernel_size=(3,), stride=(1,), padding=same, groups=32, bias=False)\n",
      "          (pointwise): Conv1d(64, 32, kernel_size=(1,), stride=(1,), bias=False)\n",
      "        )\n",
      "        (1): GELU()\n",
      "        (2): SepConv1D(\n",
      "          (depthwise): Conv1d(32, 64, kernel_size=(3,), stride=(1,), padding=same, groups=32, bias=False)\n",
      "          (pointwise): Conv1d(64, 32, kernel_size=(1,), stride=(1,), bias=False)\n",
      "        )\n",
      "      )\n",
      "      (norm): InstanceNorm1d(32, eps=1e-05, momentum=0.1, affine=False, track_running_stats=False)\n",
      "    )\n",
      "    (1): Block1D(\n",
      "      (downsample): AvgPool1d(kernel_size=(8,), stride=(8,), padding=(0,))\n",
      "      (conv1d): Conv1d(32, 64, kernel_size=(1,), stride=(1,))\n",
      "      (activation): GELU()\n",
      "      (conv_branch): Sequential(\n",
      "        (0): SepConv1D(\n",
      "          (depthwise): Conv1d(64, 128, kernel_size=(3,), stride=(1,), padding=same, groups=64, bias=False)\n",
      "          (pointwise): Conv1d(128, 64, kernel_size=(1,), stride=(1,), bias=False)\n",
      "        )\n",
      "        (1): GELU()\n",
      "        (2): SepConv1D(\n",
      "          (depthwise): Conv1d(64, 128, kernel_size=(3,), stride=(1,), padding=same, groups=64, bias=False)\n",
      "          (pointwise): Conv1d(128, 64, kernel_size=(1,), stride=(1,), bias=False)\n",
      "        )\n",
      "      )\n",
      "      (norm): InstanceNorm1d(64, eps=1e-05, momentum=0.1, affine=False, track_running_stats=False)\n",
      "    )\n",
      "    (2): Block1D(\n",
      "      (downsample): AvgPool1d(kernel_size=(4,), stride=(4,), padding=(0,))\n",
      "      (conv1d): Conv1d(64, 64, kernel_size=(1,), stride=(1,))\n",
      "      (activation): GELU()\n",
      "      (conv_branch): Sequential(\n",
      "        (0): SepConv1D(\n",
      "          (depthwise): Conv1d(64, 128, kernel_size=(3,), stride=(1,), padding=same, groups=64, bias=False)\n",
      "          (pointwise): Conv1d(128, 64, kernel_size=(1,), stride=(1,), bias=False)\n",
      "        )\n",
      "        (1): GELU()\n",
      "        (2): SepConv1D(\n",
      "          (depthwise): Conv1d(64, 128, kernel_size=(3,), stride=(1,), padding=same, groups=64, bias=False)\n",
      "          (pointwise): Conv1d(128, 64, kernel_size=(1,), stride=(1,), bias=False)\n",
      "        )\n",
      "      )\n",
      "      (norm): InstanceNorm1d(64, eps=1e-05, momentum=0.1, affine=False, track_running_stats=False)\n",
      "    )\n",
      "  )\n",
      "  (mapping): Block1D(\n",
      "    (downsample): AvgPool1d(kernel_size=(1,), stride=(1,), padding=(0,))\n",
      "    (conv1d): Conv1d(64, 64, kernel_size=(1,), stride=(1,))\n",
      "    (activation): GELU()\n",
      "    (conv_branch): Sequential(\n",
      "      (0): SepConv1D(\n",
      "        (depthwise): Conv1d(64, 128, kernel_size=(3,), stride=(1,), padding=same, groups=64, bias=False)\n",
      "        (pointwise): Conv1d(128, 64, kernel_size=(1,), stride=(1,), bias=False)\n",
      "      )\n",
      "      (1): GELU()\n",
      "      (2): SepConv1D(\n",
      "        (depthwise): Conv1d(64, 128, kernel_size=(3,), stride=(1,), padding=same, groups=64, bias=False)\n",
      "        (pointwise): Conv1d(128, 64, kernel_size=(1,), stride=(1,), bias=False)\n",
      "      )\n",
      "    )\n",
      "    (norm): InstanceNorm1d(64, eps=1e-05, momentum=0.1, affine=False, track_running_stats=False)\n",
      "  )\n",
      "  (conv1x1_one): Conv1d(64, 21, kernel_size=(1,), stride=(1,), padding=same)\n",
      "  (upsample_one_time): Upsample(scale_factor=256.0, mode=linear)\n",
      ")\n",
      "-------------------------------------------------------------------------\n",
      "      Layer (type)          Output Shape         Param #     Tr. Param #\n",
      "=========================================================================\n",
      "          Conv2d-1     [4, 16, 16, 1024]             496             496\n",
      "          Conv1d-2         [4, 32, 1024]           8,224           8,224\n",
      "         Block1D-3          [4, 32, 128]           5,536           5,536\n",
      "         Block1D-4           [4, 64, 16]          19,264          19,264\n",
      "         Block1D-5            [4, 64, 4]          21,312          21,312\n",
      "         Block1D-6            [4, 64, 4]          21,312          21,312\n",
      "          Conv1d-7            [4, 21, 4]           1,365           1,365\n",
      "        Upsample-8         [4, 21, 1024]               0               0\n",
      "=========================================================================\n",
      "Total params: 77,509\n",
      "Trainable params: 77,509\n",
      "Non-trainable params: 0\n",
      "-------------------------------------------------------------------------\n",
      "Starting Training of our model \n",
      "Number of samples 25600 \n",
      "Size of batch: 512 Number batches 50\n",
      "..................................................\n",
      "Epoch 1 train loss_0 : 1.02 val loss_0 : 1.22 train loss_1 : 0.0105 val loss_1 : -0.0484 train loss_2 : 0.0 val loss_2 : 0.0 train loss_3 : 0.0 val loss_3 : 0.0 train loss_4 : 0.0 val loss_4 : 0.0 \n",
      "."
     ]
    },
    {
     "name": "stderr",
     "output_type": "stream",
     "text": [
      "/opt/conda/envs/myenv_torch/lib/python3.9/site-packages/torch/nn/functional.py:3631: UserWarning: Default upsampling behavior when mode=linear is changed to align_corners=False since 0.4.0. Please specify align_corners=True if the old behavior is desired. See the documentation of nn.Upsample for details.\n",
      "  warnings.warn(\n"
     ]
    },
    {
     "name": "stdout",
     "output_type": "stream",
     "text": [
      ".................................................\n",
      "Epoch 2 train loss_0 : 0.98 val loss_0 : 1.22 train loss_1 : 0.029 val loss_1 : -0.0755 \n",
      "."
     ]
    },
    {
     "name": "stderr",
     "output_type": "stream",
     "text": [
      "/opt/conda/envs/myenv_torch/lib/python3.9/site-packages/torch/nn/functional.py:3631: UserWarning: Default upsampling behavior when mode=linear is changed to align_corners=False since 0.4.0. Please specify align_corners=True if the old behavior is desired. See the documentation of nn.Upsample for details.\n",
      "  warnings.warn(\n"
     ]
    },
    {
     "name": "stdout",
     "output_type": "stream",
     "text": [
      ".................................................\n",
      "Epoch 3 train loss_0 : 0.975 val loss_0 : 1.22 train loss_1 : 0.0499 val loss_1 : -0.0653 \n",
      "."
     ]
    },
    {
     "name": "stderr",
     "output_type": "stream",
     "text": [
      "/opt/conda/envs/myenv_torch/lib/python3.9/site-packages/torch/nn/functional.py:3631: UserWarning: Default upsampling behavior when mode=linear is changed to align_corners=False since 0.4.0. Please specify align_corners=True if the old behavior is desired. See the documentation of nn.Upsample for details.\n",
      "  warnings.warn(\n"
     ]
    },
    {
     "name": "stdout",
     "output_type": "stream",
     "text": [
      ".................................................\n",
      "Epoch 4 train loss_0 : 0.98 val loss_0 : 1.22 train loss_1 : 0.0697 val loss_1 : -0.0387 \n",
      "."
     ]
    },
    {
     "name": "stderr",
     "output_type": "stream",
     "text": [
      "/opt/conda/envs/myenv_torch/lib/python3.9/site-packages/torch/nn/functional.py:3631: UserWarning: Default upsampling behavior when mode=linear is changed to align_corners=False since 0.4.0. Please specify align_corners=True if the old behavior is desired. See the documentation of nn.Upsample for details.\n",
      "  warnings.warn(\n"
     ]
    },
    {
     "name": "stdout",
     "output_type": "stream",
     "text": [
      ".................................................\n",
      "Epoch 5 train loss_0 : 0.977 val loss_0 : 1.22 train loss_1 : 0.0946 val loss_1 : -0.0413 \n",
      "."
     ]
    },
    {
     "name": "stderr",
     "output_type": "stream",
     "text": [
      "/opt/conda/envs/myenv_torch/lib/python3.9/site-packages/torch/nn/functional.py:3631: UserWarning: Default upsampling behavior when mode=linear is changed to align_corners=False since 0.4.0. Please specify align_corners=True if the old behavior is desired. See the documentation of nn.Upsample for details.\n",
      "  warnings.warn(\n"
     ]
    },
    {
     "name": "stdout",
     "output_type": "stream",
     "text": [
      ".................................................\n",
      "Epoch 6 train loss_0 : 0.974 val loss_0 : 1.22 train loss_1 : 0.118 val loss_1 : -0.036 \n",
      "."
     ]
    },
    {
     "name": "stderr",
     "output_type": "stream",
     "text": [
      "/opt/conda/envs/myenv_torch/lib/python3.9/site-packages/torch/nn/functional.py:3631: UserWarning: Default upsampling behavior when mode=linear is changed to align_corners=False since 0.4.0. Please specify align_corners=True if the old behavior is desired. See the documentation of nn.Upsample for details.\n",
      "  warnings.warn(\n"
     ]
    },
    {
     "name": "stdout",
     "output_type": "stream",
     "text": [
      ".................................................\n",
      "Epoch 7 train loss_0 : 0.976 val loss_0 : 1.23 train loss_1 : 0.144 val loss_1 : -0.0331 \n",
      "."
     ]
    },
    {
     "name": "stderr",
     "output_type": "stream",
     "text": [
      "/opt/conda/envs/myenv_torch/lib/python3.9/site-packages/torch/nn/functional.py:3631: UserWarning: Default upsampling behavior when mode=linear is changed to align_corners=False since 0.4.0. Please specify align_corners=True if the old behavior is desired. See the documentation of nn.Upsample for details.\n",
      "  warnings.warn(\n"
     ]
    },
    {
     "name": "stdout",
     "output_type": "stream",
     "text": [
      ".................................................\n",
      "Epoch 8 train loss_0 : 0.965 val loss_0 : 1.23 train loss_1 : 0.161 val loss_1 : -0.0261 \n",
      "."
     ]
    },
    {
     "name": "stderr",
     "output_type": "stream",
     "text": [
      "/opt/conda/envs/myenv_torch/lib/python3.9/site-packages/torch/nn/functional.py:3631: UserWarning: Default upsampling behavior when mode=linear is changed to align_corners=False since 0.4.0. Please specify align_corners=True if the old behavior is desired. See the documentation of nn.Upsample for details.\n",
      "  warnings.warn(\n"
     ]
    },
    {
     "name": "stdout",
     "output_type": "stream",
     "text": [
      ".................................................\n",
      "Epoch 9 train loss_0 : 0.964 val loss_0 : 1.23 train loss_1 : 0.173 val loss_1 : -0.0223 \n",
      "."
     ]
    },
    {
     "name": "stderr",
     "output_type": "stream",
     "text": [
      "/opt/conda/envs/myenv_torch/lib/python3.9/site-packages/torch/nn/functional.py:3631: UserWarning: Default upsampling behavior when mode=linear is changed to align_corners=False since 0.4.0. Please specify align_corners=True if the old behavior is desired. See the documentation of nn.Upsample for details.\n",
      "  warnings.warn(\n"
     ]
    },
    {
     "name": "stdout",
     "output_type": "stream",
     "text": [
      ".................................................\n",
      "Epoch 10 train loss_0 : 0.962 val loss_0 : 1.23 train loss_1 : 0.185 val loss_1 : -0.024 \n",
      "."
     ]
    },
    {
     "name": "stderr",
     "output_type": "stream",
     "text": [
      "/opt/conda/envs/myenv_torch/lib/python3.9/site-packages/torch/nn/functional.py:3631: UserWarning: Default upsampling behavior when mode=linear is changed to align_corners=False since 0.4.0. Please specify align_corners=True if the old behavior is desired. See the documentation of nn.Upsample for details.\n",
      "  warnings.warn(\n"
     ]
    },
    {
     "name": "stdout",
     "output_type": "stream",
     "text": [
      "................................................."
     ]
    },
    {
     "name": "stderr",
     "output_type": "stream",
     "text": [
      "/home/user/common/koval_alvi/fmri_eeg_project/utils/inference.py:100: RuntimeWarning: More than 20 figures have been opened. Figures created through the pyplot interface (`matplotlib.pyplot.figure`) are retained until explicitly closed and may consume too much memory. (To control this warning, see the rcParam `figure.max_open_warning`).\n",
      "  fig, ax = plt.subplots(7, 3, figsize = (10, 15), sharex=True, sharey=True)\n"
     ]
    },
    {
     "name": "stdout",
     "output_type": "stream",
     "text": [
      "\n",
      "Epoch 11 train loss_0 : 0.963 val loss_0 : 1.23 train loss_1 : 0.193 val loss_1 : -0.027 \n",
      "."
     ]
    },
    {
     "name": "stderr",
     "output_type": "stream",
     "text": [
      "/opt/conda/envs/myenv_torch/lib/python3.9/site-packages/torch/nn/functional.py:3631: UserWarning: Default upsampling behavior when mode=linear is changed to align_corners=False since 0.4.0. Please specify align_corners=True if the old behavior is desired. See the documentation of nn.Upsample for details.\n",
      "  warnings.warn(\n"
     ]
    },
    {
     "name": "stdout",
     "output_type": "stream",
     "text": [
      ".................................................\n",
      "Epoch 12 train loss_0 : 0.963 val loss_0 : 1.23 train loss_1 : 0.2 val loss_1 : -0.0155 \n",
      "."
     ]
    },
    {
     "name": "stderr",
     "output_type": "stream",
     "text": [
      "/opt/conda/envs/myenv_torch/lib/python3.9/site-packages/torch/nn/functional.py:3631: UserWarning: Default upsampling behavior when mode=linear is changed to align_corners=False since 0.4.0. Please specify align_corners=True if the old behavior is desired. See the documentation of nn.Upsample for details.\n",
      "  warnings.warn(\n"
     ]
    },
    {
     "name": "stdout",
     "output_type": "stream",
     "text": [
      ".................................................\n",
      "Epoch 13 train loss_0 : 0.96 val loss_0 : 1.23 train loss_1 : 0.207 val loss_1 : -0.0217 \n",
      "."
     ]
    },
    {
     "name": "stderr",
     "output_type": "stream",
     "text": [
      "/opt/conda/envs/myenv_torch/lib/python3.9/site-packages/torch/nn/functional.py:3631: UserWarning: Default upsampling behavior when mode=linear is changed to align_corners=False since 0.4.0. Please specify align_corners=True if the old behavior is desired. See the documentation of nn.Upsample for details.\n",
      "  warnings.warn(\n"
     ]
    },
    {
     "name": "stdout",
     "output_type": "stream",
     "text": [
      ".................................................\n",
      "Epoch 14 train loss_0 : 0.956 val loss_0 : 1.23 train loss_1 : 0.214 val loss_1 : -0.0224 \n",
      "."
     ]
    },
    {
     "name": "stderr",
     "output_type": "stream",
     "text": [
      "/opt/conda/envs/myenv_torch/lib/python3.9/site-packages/torch/nn/functional.py:3631: UserWarning: Default upsampling behavior when mode=linear is changed to align_corners=False since 0.4.0. Please specify align_corners=True if the old behavior is desired. See the documentation of nn.Upsample for details.\n",
      "  warnings.warn(\n"
     ]
    },
    {
     "name": "stdout",
     "output_type": "stream",
     "text": [
      ".................................................\n",
      "Epoch 15 train loss_0 : 0.957 val loss_0 : 1.23 train loss_1 : 0.217 val loss_1 : -0.0212 \n",
      "."
     ]
    },
    {
     "name": "stderr",
     "output_type": "stream",
     "text": [
      "/opt/conda/envs/myenv_torch/lib/python3.9/site-packages/torch/nn/functional.py:3631: UserWarning: Default upsampling behavior when mode=linear is changed to align_corners=False since 0.4.0. Please specify align_corners=True if the old behavior is desired. See the documentation of nn.Upsample for details.\n",
      "  warnings.warn(\n"
     ]
    },
    {
     "name": "stdout",
     "output_type": "stream",
     "text": [
      ".................................................\n",
      "Epoch 16 train loss_0 : 0.958 val loss_0 : 1.24 train loss_1 : 0.221 val loss_1 : -0.0207 \n",
      "."
     ]
    },
    {
     "name": "stderr",
     "output_type": "stream",
     "text": [
      "/opt/conda/envs/myenv_torch/lib/python3.9/site-packages/torch/nn/functional.py:3631: UserWarning: Default upsampling behavior when mode=linear is changed to align_corners=False since 0.4.0. Please specify align_corners=True if the old behavior is desired. See the documentation of nn.Upsample for details.\n",
      "  warnings.warn(\n"
     ]
    },
    {
     "name": "stdout",
     "output_type": "stream",
     "text": [
      ".................................................\n",
      "Epoch 17 train loss_0 : 0.952 val loss_0 : 1.23 train loss_1 : 0.225 val loss_1 : -0.00851 \n",
      "."
     ]
    },
    {
     "name": "stderr",
     "output_type": "stream",
     "text": [
      "/opt/conda/envs/myenv_torch/lib/python3.9/site-packages/torch/nn/functional.py:3631: UserWarning: Default upsampling behavior when mode=linear is changed to align_corners=False since 0.4.0. Please specify align_corners=True if the old behavior is desired. See the documentation of nn.Upsample for details.\n",
      "  warnings.warn(\n"
     ]
    },
    {
     "name": "stdout",
     "output_type": "stream",
     "text": [
      ".................................................\n",
      "Epoch 18 train loss_0 : 0.958 val loss_0 : 1.24 train loss_1 : 0.23 val loss_1 : -0.0131 \n",
      "."
     ]
    },
    {
     "name": "stderr",
     "output_type": "stream",
     "text": [
      "/opt/conda/envs/myenv_torch/lib/python3.9/site-packages/torch/nn/functional.py:3631: UserWarning: Default upsampling behavior when mode=linear is changed to align_corners=False since 0.4.0. Please specify align_corners=True if the old behavior is desired. See the documentation of nn.Upsample for details.\n",
      "  warnings.warn(\n"
     ]
    },
    {
     "name": "stdout",
     "output_type": "stream",
     "text": [
      ".................................................\n",
      "Epoch 19 train loss_0 : 0.95 val loss_0 : 1.24 train loss_1 : 0.233 val loss_1 : -0.0209 \n",
      "."
     ]
    },
    {
     "name": "stderr",
     "output_type": "stream",
     "text": [
      "/opt/conda/envs/myenv_torch/lib/python3.9/site-packages/torch/nn/functional.py:3631: UserWarning: Default upsampling behavior when mode=linear is changed to align_corners=False since 0.4.0. Please specify align_corners=True if the old behavior is desired. See the documentation of nn.Upsample for details.\n",
      "  warnings.warn(\n"
     ]
    },
    {
     "name": "stdout",
     "output_type": "stream",
     "text": [
      ".................................................\n",
      "Epoch 20 train loss_0 : 0.951 val loss_0 : 1.24 train loss_1 : 0.236 val loss_1 : -0.0181 \n",
      "."
     ]
    },
    {
     "name": "stderr",
     "output_type": "stream",
     "text": [
      "/opt/conda/envs/myenv_torch/lib/python3.9/site-packages/torch/nn/functional.py:3631: UserWarning: Default upsampling behavior when mode=linear is changed to align_corners=False since 0.4.0. Please specify align_corners=True if the old behavior is desired. See the documentation of nn.Upsample for details.\n",
      "  warnings.warn(\n"
     ]
    },
    {
     "name": "stdout",
     "output_type": "stream",
     "text": [
      ".................................................\n",
      "Epoch 21 train loss_0 : 0.95 val loss_0 : 1.24 train loss_1 : 0.24 val loss_1 : -0.0174 \n",
      "."
     ]
    },
    {
     "name": "stderr",
     "output_type": "stream",
     "text": [
      "/opt/conda/envs/myenv_torch/lib/python3.9/site-packages/torch/nn/functional.py:3631: UserWarning: Default upsampling behavior when mode=linear is changed to align_corners=False since 0.4.0. Please specify align_corners=True if the old behavior is desired. See the documentation of nn.Upsample for details.\n",
      "  warnings.warn(\n"
     ]
    },
    {
     "name": "stdout",
     "output_type": "stream",
     "text": [
      ".................................................\n",
      "Epoch 22 train loss_0 : 0.95 val loss_0 : 1.24 train loss_1 : 0.242 val loss_1 : -0.0138 \n",
      "."
     ]
    },
    {
     "name": "stderr",
     "output_type": "stream",
     "text": [
      "/opt/conda/envs/myenv_torch/lib/python3.9/site-packages/torch/nn/functional.py:3631: UserWarning: Default upsampling behavior when mode=linear is changed to align_corners=False since 0.4.0. Please specify align_corners=True if the old behavior is desired. See the documentation of nn.Upsample for details.\n",
      "  warnings.warn(\n"
     ]
    },
    {
     "name": "stdout",
     "output_type": "stream",
     "text": [
      ".................................................\n",
      "Epoch 23 train loss_0 : 0.95 val loss_0 : 1.24 train loss_1 : 0.245 val loss_1 : -0.017 \n",
      "."
     ]
    },
    {
     "name": "stderr",
     "output_type": "stream",
     "text": [
      "/opt/conda/envs/myenv_torch/lib/python3.9/site-packages/torch/nn/functional.py:3631: UserWarning: Default upsampling behavior when mode=linear is changed to align_corners=False since 0.4.0. Please specify align_corners=True if the old behavior is desired. See the documentation of nn.Upsample for details.\n",
      "  warnings.warn(\n"
     ]
    },
    {
     "name": "stdout",
     "output_type": "stream",
     "text": [
      ".................................................\n",
      "Epoch 24 train loss_0 : 0.949 val loss_0 : 1.24 train loss_1 : 0.247 val loss_1 : -0.0159 \n",
      "."
     ]
    },
    {
     "name": "stderr",
     "output_type": "stream",
     "text": [
      "/opt/conda/envs/myenv_torch/lib/python3.9/site-packages/torch/nn/functional.py:3631: UserWarning: Default upsampling behavior when mode=linear is changed to align_corners=False since 0.4.0. Please specify align_corners=True if the old behavior is desired. See the documentation of nn.Upsample for details.\n",
      "  warnings.warn(\n"
     ]
    },
    {
     "name": "stdout",
     "output_type": "stream",
     "text": [
      ".................................................\n",
      "Epoch 25 train loss_0 : 0.95 val loss_0 : 1.24 train loss_1 : 0.25 val loss_1 : -0.0174 \n",
      "."
     ]
    },
    {
     "name": "stderr",
     "output_type": "stream",
     "text": [
      "/opt/conda/envs/myenv_torch/lib/python3.9/site-packages/torch/nn/functional.py:3631: UserWarning: Default upsampling behavior when mode=linear is changed to align_corners=False since 0.4.0. Please specify align_corners=True if the old behavior is desired. See the documentation of nn.Upsample for details.\n",
      "  warnings.warn(\n"
     ]
    },
    {
     "name": "stdout",
     "output_type": "stream",
     "text": [
      ".................................................\n",
      "Epoch 26 train loss_0 : 0.954 val loss_0 : 1.24 train loss_1 : 0.25 val loss_1 : -0.0124 \n",
      "."
     ]
    },
    {
     "name": "stderr",
     "output_type": "stream",
     "text": [
      "/opt/conda/envs/myenv_torch/lib/python3.9/site-packages/torch/nn/functional.py:3631: UserWarning: Default upsampling behavior when mode=linear is changed to align_corners=False since 0.4.0. Please specify align_corners=True if the old behavior is desired. See the documentation of nn.Upsample for details.\n",
      "  warnings.warn(\n"
     ]
    },
    {
     "name": "stdout",
     "output_type": "stream",
     "text": [
      ".................................................\n",
      "Epoch 27 train loss_0 : 0.951 val loss_0 : 1.24 train loss_1 : 0.25 val loss_1 : -0.0146 \n",
      "."
     ]
    },
    {
     "name": "stderr",
     "output_type": "stream",
     "text": [
      "/opt/conda/envs/myenv_torch/lib/python3.9/site-packages/torch/nn/functional.py:3631: UserWarning: Default upsampling behavior when mode=linear is changed to align_corners=False since 0.4.0. Please specify align_corners=True if the old behavior is desired. See the documentation of nn.Upsample for details.\n",
      "  warnings.warn(\n"
     ]
    },
    {
     "name": "stdout",
     "output_type": "stream",
     "text": [
      ".................................................\n",
      "Epoch 28 train loss_0 : 0.954 val loss_0 : 1.24 train loss_1 : 0.254 val loss_1 : -0.0229 \n",
      "."
     ]
    },
    {
     "name": "stderr",
     "output_type": "stream",
     "text": [
      "/opt/conda/envs/myenv_torch/lib/python3.9/site-packages/torch/nn/functional.py:3631: UserWarning: Default upsampling behavior when mode=linear is changed to align_corners=False since 0.4.0. Please specify align_corners=True if the old behavior is desired. See the documentation of nn.Upsample for details.\n",
      "  warnings.warn(\n"
     ]
    },
    {
     "name": "stdout",
     "output_type": "stream",
     "text": [
      ".................................................\n",
      "Epoch 29 train loss_0 : 0.95 val loss_0 : 1.24 train loss_1 : 0.254 val loss_1 : -0.0173 \n",
      "."
     ]
    },
    {
     "name": "stderr",
     "output_type": "stream",
     "text": [
      "/opt/conda/envs/myenv_torch/lib/python3.9/site-packages/torch/nn/functional.py:3631: UserWarning: Default upsampling behavior when mode=linear is changed to align_corners=False since 0.4.0. Please specify align_corners=True if the old behavior is desired. See the documentation of nn.Upsample for details.\n",
      "  warnings.warn(\n"
     ]
    },
    {
     "name": "stdout",
     "output_type": "stream",
     "text": [
      ".................................................\n",
      "Epoch 30 train loss_0 : 0.954 val loss_0 : 1.24 train loss_1 : 0.255 val loss_1 : -0.0225 \n",
      "."
     ]
    },
    {
     "name": "stderr",
     "output_type": "stream",
     "text": [
      "/opt/conda/envs/myenv_torch/lib/python3.9/site-packages/torch/nn/functional.py:3631: UserWarning: Default upsampling behavior when mode=linear is changed to align_corners=False since 0.4.0. Please specify align_corners=True if the old behavior is desired. See the documentation of nn.Upsample for details.\n",
      "  warnings.warn(\n"
     ]
    },
    {
     "name": "stdout",
     "output_type": "stream",
     "text": [
      ".................................................\n",
      "Epoch 31 train loss_0 : 0.949 val loss_0 : 1.24 train loss_1 : 0.256 val loss_1 : -0.0161 \n",
      "."
     ]
    },
    {
     "name": "stderr",
     "output_type": "stream",
     "text": [
      "/opt/conda/envs/myenv_torch/lib/python3.9/site-packages/torch/nn/functional.py:3631: UserWarning: Default upsampling behavior when mode=linear is changed to align_corners=False since 0.4.0. Please specify align_corners=True if the old behavior is desired. See the documentation of nn.Upsample for details.\n",
      "  warnings.warn(\n"
     ]
    },
    {
     "name": "stdout",
     "output_type": "stream",
     "text": [
      ".................................................\n",
      "Epoch 32 train loss_0 : 0.949 val loss_0 : 1.24 train loss_1 : 0.258 val loss_1 : -0.0209 \n",
      "."
     ]
    },
    {
     "name": "stderr",
     "output_type": "stream",
     "text": [
      "/opt/conda/envs/myenv_torch/lib/python3.9/site-packages/torch/nn/functional.py:3631: UserWarning: Default upsampling behavior when mode=linear is changed to align_corners=False since 0.4.0. Please specify align_corners=True if the old behavior is desired. See the documentation of nn.Upsample for details.\n",
      "  warnings.warn(\n"
     ]
    },
    {
     "name": "stdout",
     "output_type": "stream",
     "text": [
      ".................................................\n",
      "Epoch 33 train loss_0 : 0.952 val loss_0 : 1.24 train loss_1 : 0.26 val loss_1 : -0.0196 \n",
      "."
     ]
    },
    {
     "name": "stderr",
     "output_type": "stream",
     "text": [
      "/opt/conda/envs/myenv_torch/lib/python3.9/site-packages/torch/nn/functional.py:3631: UserWarning: Default upsampling behavior when mode=linear is changed to align_corners=False since 0.4.0. Please specify align_corners=True if the old behavior is desired. See the documentation of nn.Upsample for details.\n",
      "  warnings.warn(\n"
     ]
    },
    {
     "name": "stdout",
     "output_type": "stream",
     "text": [
      ".................................................\n",
      "Epoch 34 train loss_0 : 0.953 val loss_0 : 1.24 train loss_1 : 0.261 val loss_1 : -0.0202 \n",
      "."
     ]
    },
    {
     "name": "stderr",
     "output_type": "stream",
     "text": [
      "/opt/conda/envs/myenv_torch/lib/python3.9/site-packages/torch/nn/functional.py:3631: UserWarning: Default upsampling behavior when mode=linear is changed to align_corners=False since 0.4.0. Please specify align_corners=True if the old behavior is desired. See the documentation of nn.Upsample for details.\n",
      "  warnings.warn(\n"
     ]
    },
    {
     "name": "stdout",
     "output_type": "stream",
     "text": [
      ".................................................\n",
      "Epoch 35 train loss_0 : 0.946 val loss_0 : 1.24 train loss_1 : 0.262 val loss_1 : -0.0163 \n",
      "."
     ]
    },
    {
     "name": "stderr",
     "output_type": "stream",
     "text": [
      "/opt/conda/envs/myenv_torch/lib/python3.9/site-packages/torch/nn/functional.py:3631: UserWarning: Default upsampling behavior when mode=linear is changed to align_corners=False since 0.4.0. Please specify align_corners=True if the old behavior is desired. See the documentation of nn.Upsample for details.\n",
      "  warnings.warn(\n"
     ]
    },
    {
     "name": "stdout",
     "output_type": "stream",
     "text": [
      ".................................................\n",
      "Epoch 36 train loss_0 : 0.947 val loss_0 : 1.24 train loss_1 : 0.265 val loss_1 : -0.0166 \n",
      "."
     ]
    },
    {
     "name": "stderr",
     "output_type": "stream",
     "text": [
      "/opt/conda/envs/myenv_torch/lib/python3.9/site-packages/torch/nn/functional.py:3631: UserWarning: Default upsampling behavior when mode=linear is changed to align_corners=False since 0.4.0. Please specify align_corners=True if the old behavior is desired. See the documentation of nn.Upsample for details.\n",
      "  warnings.warn(\n"
     ]
    },
    {
     "name": "stdout",
     "output_type": "stream",
     "text": [
      ".................................................\n",
      "Epoch 37 train loss_0 : 0.953 val loss_0 : 1.24 train loss_1 : 0.263 val loss_1 : -0.0252 \n",
      "."
     ]
    },
    {
     "name": "stderr",
     "output_type": "stream",
     "text": [
      "/opt/conda/envs/myenv_torch/lib/python3.9/site-packages/torch/nn/functional.py:3631: UserWarning: Default upsampling behavior when mode=linear is changed to align_corners=False since 0.4.0. Please specify align_corners=True if the old behavior is desired. See the documentation of nn.Upsample for details.\n",
      "  warnings.warn(\n"
     ]
    },
    {
     "name": "stdout",
     "output_type": "stream",
     "text": [
      ".................................................\n",
      "Epoch 38 train loss_0 : 0.95 val loss_0 : 1.24 train loss_1 : 0.265 val loss_1 : -0.022 \n",
      "."
     ]
    },
    {
     "name": "stderr",
     "output_type": "stream",
     "text": [
      "/opt/conda/envs/myenv_torch/lib/python3.9/site-packages/torch/nn/functional.py:3631: UserWarning: Default upsampling behavior when mode=linear is changed to align_corners=False since 0.4.0. Please specify align_corners=True if the old behavior is desired. See the documentation of nn.Upsample for details.\n",
      "  warnings.warn(\n"
     ]
    },
    {
     "name": "stdout",
     "output_type": "stream",
     "text": [
      ".................................................\n",
      "Epoch 39 train loss_0 : 0.95 val loss_0 : 1.24 train loss_1 : 0.266 val loss_1 : -0.0199 \n",
      "."
     ]
    },
    {
     "name": "stderr",
     "output_type": "stream",
     "text": [
      "/opt/conda/envs/myenv_torch/lib/python3.9/site-packages/torch/nn/functional.py:3631: UserWarning: Default upsampling behavior when mode=linear is changed to align_corners=False since 0.4.0. Please specify align_corners=True if the old behavior is desired. See the documentation of nn.Upsample for details.\n",
      "  warnings.warn(\n"
     ]
    },
    {
     "name": "stdout",
     "output_type": "stream",
     "text": [
      ".................................................\n",
      "Epoch 40 train loss_0 : 0.951 val loss_0 : 1.24 train loss_1 : 0.265 val loss_1 : -0.0186 \n",
      "."
     ]
    },
    {
     "name": "stderr",
     "output_type": "stream",
     "text": [
      "/opt/conda/envs/myenv_torch/lib/python3.9/site-packages/torch/nn/functional.py:3631: UserWarning: Default upsampling behavior when mode=linear is changed to align_corners=False since 0.4.0. Please specify align_corners=True if the old behavior is desired. See the documentation of nn.Upsample for details.\n",
      "  warnings.warn(\n"
     ]
    },
    {
     "name": "stdout",
     "output_type": "stream",
     "text": [
      ".................................................\n",
      "Epoch 41 train loss_0 : 0.949 val loss_0 : 1.24 train loss_1 : 0.266 val loss_1 : -0.0155 \n",
      "."
     ]
    },
    {
     "name": "stderr",
     "output_type": "stream",
     "text": [
      "/opt/conda/envs/myenv_torch/lib/python3.9/site-packages/torch/nn/functional.py:3631: UserWarning: Default upsampling behavior when mode=linear is changed to align_corners=False since 0.4.0. Please specify align_corners=True if the old behavior is desired. See the documentation of nn.Upsample for details.\n",
      "  warnings.warn(\n"
     ]
    },
    {
     "name": "stdout",
     "output_type": "stream",
     "text": [
      ".................................................\n",
      "Epoch 42 train loss_0 : 0.955 val loss_0 : 1.24 train loss_1 : 0.266 val loss_1 : -0.0239 \n",
      "."
     ]
    },
    {
     "name": "stderr",
     "output_type": "stream",
     "text": [
      "/opt/conda/envs/myenv_torch/lib/python3.9/site-packages/torch/nn/functional.py:3631: UserWarning: Default upsampling behavior when mode=linear is changed to align_corners=False since 0.4.0. Please specify align_corners=True if the old behavior is desired. See the documentation of nn.Upsample for details.\n",
      "  warnings.warn(\n"
     ]
    },
    {
     "name": "stdout",
     "output_type": "stream",
     "text": [
      ".................................................\n",
      "Epoch 43 train loss_0 : 0.945 val loss_0 : 1.24 train loss_1 : 0.265 val loss_1 : -0.014 \n",
      "."
     ]
    },
    {
     "name": "stderr",
     "output_type": "stream",
     "text": [
      "/opt/conda/envs/myenv_torch/lib/python3.9/site-packages/torch/nn/functional.py:3631: UserWarning: Default upsampling behavior when mode=linear is changed to align_corners=False since 0.4.0. Please specify align_corners=True if the old behavior is desired. See the documentation of nn.Upsample for details.\n",
      "  warnings.warn(\n"
     ]
    },
    {
     "name": "stdout",
     "output_type": "stream",
     "text": [
      ".................................................\n",
      "Epoch 44 train loss_0 : 0.945 val loss_0 : 1.24 train loss_1 : 0.269 val loss_1 : -0.0153 \n",
      "."
     ]
    },
    {
     "name": "stderr",
     "output_type": "stream",
     "text": [
      "/opt/conda/envs/myenv_torch/lib/python3.9/site-packages/torch/nn/functional.py:3631: UserWarning: Default upsampling behavior when mode=linear is changed to align_corners=False since 0.4.0. Please specify align_corners=True if the old behavior is desired. See the documentation of nn.Upsample for details.\n",
      "  warnings.warn(\n"
     ]
    },
    {
     "name": "stdout",
     "output_type": "stream",
     "text": [
      ".................................................\n",
      "Epoch 45 train loss_0 : 0.947 val loss_0 : 1.24 train loss_1 : 0.269 val loss_1 : -0.0143 \n",
      "."
     ]
    },
    {
     "name": "stderr",
     "output_type": "stream",
     "text": [
      "/opt/conda/envs/myenv_torch/lib/python3.9/site-packages/torch/nn/functional.py:3631: UserWarning: Default upsampling behavior when mode=linear is changed to align_corners=False since 0.4.0. Please specify align_corners=True if the old behavior is desired. See the documentation of nn.Upsample for details.\n",
      "  warnings.warn(\n"
     ]
    },
    {
     "name": "stdout",
     "output_type": "stream",
     "text": [
      ".................................................\n",
      "Epoch 46 train loss_0 : 0.942 val loss_0 : 1.24 train loss_1 : 0.269 val loss_1 : -0.0219 \n",
      "."
     ]
    },
    {
     "name": "stderr",
     "output_type": "stream",
     "text": [
      "/opt/conda/envs/myenv_torch/lib/python3.9/site-packages/torch/nn/functional.py:3631: UserWarning: Default upsampling behavior when mode=linear is changed to align_corners=False since 0.4.0. Please specify align_corners=True if the old behavior is desired. See the documentation of nn.Upsample for details.\n",
      "  warnings.warn(\n"
     ]
    },
    {
     "name": "stdout",
     "output_type": "stream",
     "text": [
      ".................................................\n",
      "Epoch 47 train loss_0 : 0.94 val loss_0 : 1.24 train loss_1 : 0.269 val loss_1 : -0.0228 \n",
      "."
     ]
    },
    {
     "name": "stderr",
     "output_type": "stream",
     "text": [
      "/opt/conda/envs/myenv_torch/lib/python3.9/site-packages/torch/nn/functional.py:3631: UserWarning: Default upsampling behavior when mode=linear is changed to align_corners=False since 0.4.0. Please specify align_corners=True if the old behavior is desired. See the documentation of nn.Upsample for details.\n",
      "  warnings.warn(\n"
     ]
    },
    {
     "name": "stdout",
     "output_type": "stream",
     "text": [
      ".................................................\n",
      "Epoch 48 train loss_0 : 0.945 val loss_0 : 1.24 train loss_1 : 0.271 val loss_1 : -0.0161 \n",
      "."
     ]
    },
    {
     "name": "stderr",
     "output_type": "stream",
     "text": [
      "/opt/conda/envs/myenv_torch/lib/python3.9/site-packages/torch/nn/functional.py:3631: UserWarning: Default upsampling behavior when mode=linear is changed to align_corners=False since 0.4.0. Please specify align_corners=True if the old behavior is desired. See the documentation of nn.Upsample for details.\n",
      "  warnings.warn(\n"
     ]
    },
    {
     "name": "stdout",
     "output_type": "stream",
     "text": [
      ".................................................\n",
      "Epoch 49 train loss_0 : 0.945 val loss_0 : 1.24 train loss_1 : 0.273 val loss_1 : -0.0212 \n",
      "."
     ]
    },
    {
     "name": "stderr",
     "output_type": "stream",
     "text": [
      "/opt/conda/envs/myenv_torch/lib/python3.9/site-packages/torch/nn/functional.py:3631: UserWarning: Default upsampling behavior when mode=linear is changed to align_corners=False since 0.4.0. Please specify align_corners=True if the old behavior is desired. See the documentation of nn.Upsample for details.\n",
      "  warnings.warn(\n"
     ]
    },
    {
     "name": "stdout",
     "output_type": "stream",
     "text": [
      ".................................................\n",
      "Epoch 50 train loss_0 : 0.943 val loss_0 : 1.24 train loss_1 : 0.271 val loss_1 : -0.0207 \n"
     ]
    },
    {
     "data": {
      "text/html": [
       "<br/>Waiting for W&B process to finish, PID 14816... <strong style=\"color:green\">(success).</strong>"
      ],
      "text/plain": [
       "<IPython.core.display.HTML object>"
      ]
     },
     "metadata": {},
     "output_type": "display_data"
    },
    {
     "data": {
      "text/html": [
       "<style>\n",
       "    table.wandb td:nth-child(1) { padding: 0 10px; text-align: right }\n",
       "    .wandb-row { display: flex; flex-direction: row; flex-wrap: wrap; width: 100% }\n",
       "    .wandb-col { display: flex; flex-direction: column; flex-basis: 100%; flex: 1; padding: 10px; }\n",
       "    </style>\n",
       "<div class=\"wandb-row\"><div class=\"wandb-col\">\n",
       "<h3>Run history:</h3><br/><table class=\"wandb\"><tr><td>train/loss_0</td><td>█▄▄▄▄▄▃▃▃▃▃▂▃▂▃▂▂▂▂▂▂▂▂▂▂▂▂▂▂▂▂▂▂▂▁▁▁▁▁▁</td></tr><tr><td>train/loss_1</td><td>▁▁▂▃▄▅▅▅▆▆▆▆▇▇▇▇▇▇▇▇▇▇██████████████████</td></tr><tr><td>val/corr_mean</td><td>▂▁▁▂▅▆▇█▆▅▆▅▄▆▅▅▆▅▆▆▅▅▅▅▅▅▅▄▄▄▅▅▄▅▄▅▅▅▅▅</td></tr><tr><td>val/loss_0</td><td>▂▁▁▁▃▄▄▄▅▅▅▆▆▅▆▆▇▆▇▇▆▆█▇▇▇▇▇▇███▇█▇▇▇▇██</td></tr><tr><td>val/loss_1</td><td>▄▁▂▅▅▅▆▇▆▇▇▇▇██▇▇▇▇▇█▇▆▇▇▇▇▇▇▆▇▇▇▆▇▇▇▇▇▇</td></tr></table><br/></div><div class=\"wandb-col\">\n",
       "<h3>Run summary:</h3><br/><table class=\"wandb\"><tr><td>train/loss_0</td><td>0.94275</td></tr><tr><td>train/loss_1</td><td>0.27117</td></tr><tr><td>val/corr_mean</td><td>0.04911</td></tr><tr><td>val/loss_0</td><td>1.24188</td></tr><tr><td>val/loss_1</td><td>-0.02073</td></tr></table>\n",
       "</div></div>\n",
       "Synced 5 W&B file(s), 100 media file(s), 0 artifact file(s) and 1 other file(s)\n",
       "<br/>Synced <strong style=\"color:#cdcd00\">lunar-dragon-87</strong>: <a href=\"https://wandb.ai/koval_alvi/eeg_fmri/runs/27xj6wql\" target=\"_blank\">https://wandb.ai/koval_alvi/eeg_fmri/runs/27xj6wql</a><br/>\n",
       "Find logs at: <code>./wandb/run-20220201_161006-27xj6wql/logs</code><br/>\n"
      ],
      "text/plain": [
       "<IPython.core.display.HTML object>"
      ]
     },
     "metadata": {},
     "output_type": "display_data"
    },
    {
     "name": "stderr",
     "output_type": "stream",
     "text": [
      "\u001b[34m\u001b[1mwandb\u001b[0m: wandb version 0.12.10 is available!  To upgrade, please run:\n",
      "\u001b[34m\u001b[1mwandb\u001b[0m:  $ pip install wandb --upgrade\n"
     ]
    },
    {
     "data": {
      "text/html": [
       "\n",
       "                    Syncing run <strong><a href=\"https://wandb.ai/koval_alvi/eeg_fmri/runs/3v97b8wt\" target=\"_blank\">thriving-noodles-88</a></strong> to <a href=\"https://wandb.ai/koval_alvi/eeg_fmri\" target=\"_blank\">Weights & Biases</a> (<a href=\"https://docs.wandb.com/integrations/jupyter.html\" target=\"_blank\">docs</a>).<br/>\n",
       "\n",
       "                "
      ],
      "text/plain": [
       "<IPython.core.display.HTML object>"
      ]
     },
     "metadata": {},
     "output_type": "display_data"
    },
    {
     "name": "stdout",
     "output_type": "stream",
     "text": [
      "{'n_electrodes': 30, 'n_freqs': 16, 'n_channels_out': 21, 'n_res_block': 0, 'channels': [32, 32, 64, 64], 'kernel_sizes': [15, 11, 5, 5], 'strides': [8, 8, 4], 'dataset_name': 'CWL', 'fps': 1000, 'n_channels': 30, 'n_roi': 21, 'test_sec': 60, 'freqs': array([  2.        ,   8.53333333,  15.06666667,  21.6       ,\n",
      "        28.13333333,  34.66666667,  41.2       ,  47.73333333,\n",
      "        54.26666667,  60.8       ,  67.33333333,  73.86666667,\n",
      "        80.4       ,  86.93333333,  93.46666667, 100.        ]), 'bold_delay': 5, 'to_many': True, 'random_subsample': True, 'sample_per_epoch': 25600, 'WINDOW_SIZE': 1024, 'optimizer': 'adam', 'lr': 0.001, 'weight_decay': 1e-05, 'batch_size': 512, 'loss_function': 'mse', 'model_type': '1D_CNN_AE_changed'}\n",
      "AutoEncoder1D(\n",
      "  (spatial_reduce_2d): Conv2d(30, 16, kernel_size=(1, 1), stride=(1, 1))\n",
      "  (spatial_reduce): Conv1d(256, 32, kernel_size=(1,), stride=(1,))\n",
      "  (downsample_blocks): ModuleList(\n",
      "    (0): Block1D(\n",
      "      (downsample): AvgPool1d(kernel_size=(8,), stride=(8,), padding=(0,))\n",
      "      (conv1d): Conv1d(32, 32, kernel_size=(1,), stride=(1,))\n",
      "      (activation): GELU()\n",
      "      (conv_branch): Sequential(\n",
      "        (0): SepConv1D(\n",
      "          (depthwise): Conv1d(32, 64, kernel_size=(3,), stride=(1,), padding=same, groups=32, bias=False)\n",
      "          (pointwise): Conv1d(64, 32, kernel_size=(1,), stride=(1,), bias=False)\n",
      "        )\n",
      "        (1): GELU()\n",
      "        (2): SepConv1D(\n",
      "          (depthwise): Conv1d(32, 64, kernel_size=(3,), stride=(1,), padding=same, groups=32, bias=False)\n",
      "          (pointwise): Conv1d(64, 32, kernel_size=(1,), stride=(1,), bias=False)\n",
      "        )\n",
      "      )\n",
      "      (norm): InstanceNorm1d(32, eps=1e-05, momentum=0.1, affine=False, track_running_stats=False)\n",
      "    )\n",
      "    (1): Block1D(\n",
      "      (downsample): AvgPool1d(kernel_size=(8,), stride=(8,), padding=(0,))\n",
      "      (conv1d): Conv1d(32, 64, kernel_size=(1,), stride=(1,))\n",
      "      (activation): GELU()\n",
      "      (conv_branch): Sequential(\n",
      "        (0): SepConv1D(\n",
      "          (depthwise): Conv1d(64, 128, kernel_size=(3,), stride=(1,), padding=same, groups=64, bias=False)\n",
      "          (pointwise): Conv1d(128, 64, kernel_size=(1,), stride=(1,), bias=False)\n",
      "        )\n",
      "        (1): GELU()\n",
      "        (2): SepConv1D(\n",
      "          (depthwise): Conv1d(64, 128, kernel_size=(3,), stride=(1,), padding=same, groups=64, bias=False)\n",
      "          (pointwise): Conv1d(128, 64, kernel_size=(1,), stride=(1,), bias=False)\n",
      "        )\n",
      "      )\n",
      "      (norm): InstanceNorm1d(64, eps=1e-05, momentum=0.1, affine=False, track_running_stats=False)\n",
      "    )\n",
      "    (2): Block1D(\n",
      "      (downsample): AvgPool1d(kernel_size=(4,), stride=(4,), padding=(0,))\n",
      "      (conv1d): Conv1d(64, 64, kernel_size=(1,), stride=(1,))\n",
      "      (activation): GELU()\n",
      "      (conv_branch): Sequential(\n",
      "        (0): SepConv1D(\n",
      "          (depthwise): Conv1d(64, 128, kernel_size=(3,), stride=(1,), padding=same, groups=64, bias=False)\n",
      "          (pointwise): Conv1d(128, 64, kernel_size=(1,), stride=(1,), bias=False)\n",
      "        )\n",
      "        (1): GELU()\n",
      "        (2): SepConv1D(\n",
      "          (depthwise): Conv1d(64, 128, kernel_size=(3,), stride=(1,), padding=same, groups=64, bias=False)\n",
      "          (pointwise): Conv1d(128, 64, kernel_size=(1,), stride=(1,), bias=False)\n",
      "        )\n",
      "      )\n",
      "      (norm): InstanceNorm1d(64, eps=1e-05, momentum=0.1, affine=False, track_running_stats=False)\n",
      "    )\n",
      "  )\n",
      "  (mapping): Block1D(\n",
      "    (downsample): AvgPool1d(kernel_size=(1,), stride=(1,), padding=(0,))\n",
      "    (conv1d): Conv1d(64, 64, kernel_size=(1,), stride=(1,))\n",
      "    (activation): GELU()\n",
      "    (conv_branch): Sequential(\n",
      "      (0): SepConv1D(\n",
      "        (depthwise): Conv1d(64, 128, kernel_size=(3,), stride=(1,), padding=same, groups=64, bias=False)\n",
      "        (pointwise): Conv1d(128, 64, kernel_size=(1,), stride=(1,), bias=False)\n",
      "      )\n",
      "      (1): GELU()\n",
      "      (2): SepConv1D(\n",
      "        (depthwise): Conv1d(64, 128, kernel_size=(3,), stride=(1,), padding=same, groups=64, bias=False)\n",
      "        (pointwise): Conv1d(128, 64, kernel_size=(1,), stride=(1,), bias=False)\n",
      "      )\n",
      "    )\n",
      "    (norm): InstanceNorm1d(64, eps=1e-05, momentum=0.1, affine=False, track_running_stats=False)\n",
      "  )\n",
      "  (conv1x1_one): Conv1d(64, 21, kernel_size=(1,), stride=(1,), padding=same)\n",
      "  (upsample_one_time): Upsample(scale_factor=256.0, mode=linear)\n",
      ")\n",
      "-------------------------------------------------------------------------\n",
      "      Layer (type)          Output Shape         Param #     Tr. Param #\n",
      "=========================================================================\n",
      "          Conv2d-1     [4, 16, 16, 1024]             496             496\n",
      "          Conv1d-2         [4, 32, 1024]           8,224           8,224\n",
      "         Block1D-3          [4, 32, 128]           5,536           5,536\n",
      "         Block1D-4           [4, 64, 16]          19,264          19,264\n",
      "         Block1D-5            [4, 64, 4]          21,312          21,312\n",
      "         Block1D-6            [4, 64, 4]          21,312          21,312\n",
      "          Conv1d-7            [4, 21, 4]           1,365           1,365\n",
      "        Upsample-8         [4, 21, 1024]               0               0\n",
      "=========================================================================\n",
      "Total params: 77,509\n",
      "Trainable params: 77,509\n",
      "Non-trainable params: 0\n",
      "-------------------------------------------------------------------------\n",
      "Starting Training of our model \n",
      "Number of samples 25600 \n",
      "Size of batch: 512 Number batches 50\n"
     ]
    },
    {
     "name": "stderr",
     "output_type": "stream",
     "text": [
      "/opt/conda/envs/myenv_torch/lib/python3.9/site-packages/torch/nn/functional.py:3631: UserWarning: Default upsampling behavior when mode=linear is changed to align_corners=False since 0.4.0. Please specify align_corners=True if the old behavior is desired. See the documentation of nn.Upsample for details.\n",
      "  warnings.warn(\n"
     ]
    },
    {
     "name": "stdout",
     "output_type": "stream",
     "text": [
      "..................................................\n",
      "Epoch 1 train loss_0 : 1.02 val loss_0 : 1.22 train loss_1 : 0.0145 val loss_1 : -0.0332 train loss_2 : 0.0 val loss_2 : 0.0 train loss_3 : 0.0 val loss_3 : 0.0 train loss_4 : 0.0 val loss_4 : 0.0 \n",
      "."
     ]
    },
    {
     "name": "stderr",
     "output_type": "stream",
     "text": [
      "/opt/conda/envs/myenv_torch/lib/python3.9/site-packages/torch/nn/functional.py:3631: UserWarning: Default upsampling behavior when mode=linear is changed to align_corners=False since 0.4.0. Please specify align_corners=True if the old behavior is desired. See the documentation of nn.Upsample for details.\n",
      "  warnings.warn(\n"
     ]
    },
    {
     "name": "stdout",
     "output_type": "stream",
     "text": [
      ".................................................\n",
      "Epoch 2 train loss_0 : 0.978 val loss_0 : 1.22 train loss_1 : 0.0384 val loss_1 : -0.0446 \n",
      "."
     ]
    },
    {
     "name": "stderr",
     "output_type": "stream",
     "text": [
      "/opt/conda/envs/myenv_torch/lib/python3.9/site-packages/torch/nn/functional.py:3631: UserWarning: Default upsampling behavior when mode=linear is changed to align_corners=False since 0.4.0. Please specify align_corners=True if the old behavior is desired. See the documentation of nn.Upsample for details.\n",
      "  warnings.warn(\n"
     ]
    },
    {
     "name": "stdout",
     "output_type": "stream",
     "text": [
      ".................................................\n",
      "Epoch 3 train loss_0 : 0.976 val loss_0 : 1.22 train loss_1 : 0.0421 val loss_1 : -0.0486 \n",
      "."
     ]
    },
    {
     "name": "stderr",
     "output_type": "stream",
     "text": [
      "/opt/conda/envs/myenv_torch/lib/python3.9/site-packages/torch/nn/functional.py:3631: UserWarning: Default upsampling behavior when mode=linear is changed to align_corners=False since 0.4.0. Please specify align_corners=True if the old behavior is desired. See the documentation of nn.Upsample for details.\n",
      "  warnings.warn(\n"
     ]
    },
    {
     "name": "stdout",
     "output_type": "stream",
     "text": [
      ".................................................\n",
      "Epoch 4 train loss_0 : 0.975 val loss_0 : 1.22 train loss_1 : 0.051 val loss_1 : -0.0471 \n",
      "."
     ]
    },
    {
     "name": "stderr",
     "output_type": "stream",
     "text": [
      "/opt/conda/envs/myenv_torch/lib/python3.9/site-packages/torch/nn/functional.py:3631: UserWarning: Default upsampling behavior when mode=linear is changed to align_corners=False since 0.4.0. Please specify align_corners=True if the old behavior is desired. See the documentation of nn.Upsample for details.\n",
      "  warnings.warn(\n"
     ]
    },
    {
     "name": "stdout",
     "output_type": "stream",
     "text": [
      ".................................................\n",
      "Epoch 5 train loss_0 : 0.969 val loss_0 : 1.22 train loss_1 : 0.0686 val loss_1 : -0.0366 \n",
      "."
     ]
    },
    {
     "name": "stderr",
     "output_type": "stream",
     "text": [
      "/opt/conda/envs/myenv_torch/lib/python3.9/site-packages/torch/nn/functional.py:3631: UserWarning: Default upsampling behavior when mode=linear is changed to align_corners=False since 0.4.0. Please specify align_corners=True if the old behavior is desired. See the documentation of nn.Upsample for details.\n",
      "  warnings.warn(\n"
     ]
    },
    {
     "name": "stdout",
     "output_type": "stream",
     "text": [
      ".................................................\n",
      "Epoch 6 train loss_0 : 0.982 val loss_0 : 1.22 train loss_1 : 0.0909 val loss_1 : -0.0246 \n",
      "."
     ]
    },
    {
     "name": "stderr",
     "output_type": "stream",
     "text": [
      "/opt/conda/envs/myenv_torch/lib/python3.9/site-packages/torch/nn/functional.py:3631: UserWarning: Default upsampling behavior when mode=linear is changed to align_corners=False since 0.4.0. Please specify align_corners=True if the old behavior is desired. See the documentation of nn.Upsample for details.\n",
      "  warnings.warn(\n"
     ]
    },
    {
     "name": "stdout",
     "output_type": "stream",
     "text": [
      ".................................................\n",
      "Epoch 7 train loss_0 : 0.972 val loss_0 : 1.22 train loss_1 : 0.113 val loss_1 : -0.0126 \n",
      "."
     ]
    },
    {
     "name": "stderr",
     "output_type": "stream",
     "text": [
      "/opt/conda/envs/myenv_torch/lib/python3.9/site-packages/torch/nn/functional.py:3631: UserWarning: Default upsampling behavior when mode=linear is changed to align_corners=False since 0.4.0. Please specify align_corners=True if the old behavior is desired. See the documentation of nn.Upsample for details.\n",
      "  warnings.warn(\n"
     ]
    },
    {
     "name": "stdout",
     "output_type": "stream",
     "text": [
      ".................................................\n",
      "Epoch 8 train loss_0 : 0.97 val loss_0 : 1.22 train loss_1 : 0.134 val loss_1 : -0.0218 \n",
      "."
     ]
    },
    {
     "name": "stderr",
     "output_type": "stream",
     "text": [
      "/opt/conda/envs/myenv_torch/lib/python3.9/site-packages/torch/nn/functional.py:3631: UserWarning: Default upsampling behavior when mode=linear is changed to align_corners=False since 0.4.0. Please specify align_corners=True if the old behavior is desired. See the documentation of nn.Upsample for details.\n",
      "  warnings.warn(\n"
     ]
    },
    {
     "name": "stdout",
     "output_type": "stream",
     "text": [
      ".................................................\n",
      "Epoch 9 train loss_0 : 0.961 val loss_0 : 1.22 train loss_1 : 0.15 val loss_1 : -0.00997 \n",
      "."
     ]
    },
    {
     "name": "stderr",
     "output_type": "stream",
     "text": [
      "/opt/conda/envs/myenv_torch/lib/python3.9/site-packages/torch/nn/functional.py:3631: UserWarning: Default upsampling behavior when mode=linear is changed to align_corners=False since 0.4.0. Please specify align_corners=True if the old behavior is desired. See the documentation of nn.Upsample for details.\n",
      "  warnings.warn(\n"
     ]
    },
    {
     "name": "stdout",
     "output_type": "stream",
     "text": [
      ".................................................\n",
      "Epoch 10 train loss_0 : 0.963 val loss_0 : 1.23 train loss_1 : 0.166 val loss_1 : -0.0189 \n",
      "."
     ]
    },
    {
     "name": "stderr",
     "output_type": "stream",
     "text": [
      "/opt/conda/envs/myenv_torch/lib/python3.9/site-packages/torch/nn/functional.py:3631: UserWarning: Default upsampling behavior when mode=linear is changed to align_corners=False since 0.4.0. Please specify align_corners=True if the old behavior is desired. See the documentation of nn.Upsample for details.\n",
      "  warnings.warn(\n"
     ]
    },
    {
     "name": "stdout",
     "output_type": "stream",
     "text": [
      ".................................................\n",
      "Epoch 11 train loss_0 : 0.968 val loss_0 : 1.23 train loss_1 : 0.177 val loss_1 : -0.0124 \n",
      "."
     ]
    },
    {
     "name": "stderr",
     "output_type": "stream",
     "text": [
      "/opt/conda/envs/myenv_torch/lib/python3.9/site-packages/torch/nn/functional.py:3631: UserWarning: Default upsampling behavior when mode=linear is changed to align_corners=False since 0.4.0. Please specify align_corners=True if the old behavior is desired. See the documentation of nn.Upsample for details.\n",
      "  warnings.warn(\n"
     ]
    },
    {
     "name": "stdout",
     "output_type": "stream",
     "text": [
      ".................................................\n",
      "Epoch 12 train loss_0 : 0.962 val loss_0 : 1.23 train loss_1 : 0.186 val loss_1 : -0.0114 \n",
      "."
     ]
    },
    {
     "name": "stderr",
     "output_type": "stream",
     "text": [
      "/opt/conda/envs/myenv_torch/lib/python3.9/site-packages/torch/nn/functional.py:3631: UserWarning: Default upsampling behavior when mode=linear is changed to align_corners=False since 0.4.0. Please specify align_corners=True if the old behavior is desired. See the documentation of nn.Upsample for details.\n",
      "  warnings.warn(\n"
     ]
    },
    {
     "name": "stdout",
     "output_type": "stream",
     "text": [
      ".................................................\n",
      "Epoch 13 train loss_0 : 0.957 val loss_0 : 1.23 train loss_1 : 0.194 val loss_1 : -0.0197 \n",
      "."
     ]
    },
    {
     "name": "stderr",
     "output_type": "stream",
     "text": [
      "/opt/conda/envs/myenv_torch/lib/python3.9/site-packages/torch/nn/functional.py:3631: UserWarning: Default upsampling behavior when mode=linear is changed to align_corners=False since 0.4.0. Please specify align_corners=True if the old behavior is desired. See the documentation of nn.Upsample for details.\n",
      "  warnings.warn(\n"
     ]
    },
    {
     "name": "stdout",
     "output_type": "stream",
     "text": [
      ".................................................\n",
      "Epoch 14 train loss_0 : 0.964 val loss_0 : 1.23 train loss_1 : 0.196 val loss_1 : -0.0153 \n",
      "."
     ]
    },
    {
     "name": "stderr",
     "output_type": "stream",
     "text": [
      "/opt/conda/envs/myenv_torch/lib/python3.9/site-packages/torch/nn/functional.py:3631: UserWarning: Default upsampling behavior when mode=linear is changed to align_corners=False since 0.4.0. Please specify align_corners=True if the old behavior is desired. See the documentation of nn.Upsample for details.\n",
      "  warnings.warn(\n"
     ]
    },
    {
     "name": "stdout",
     "output_type": "stream",
     "text": [
      ".................................................\n",
      "Epoch 15 train loss_0 : 0.961 val loss_0 : 1.23 train loss_1 : 0.203 val loss_1 : -0.0188 \n",
      "."
     ]
    },
    {
     "name": "stderr",
     "output_type": "stream",
     "text": [
      "/opt/conda/envs/myenv_torch/lib/python3.9/site-packages/torch/nn/functional.py:3631: UserWarning: Default upsampling behavior when mode=linear is changed to align_corners=False since 0.4.0. Please specify align_corners=True if the old behavior is desired. See the documentation of nn.Upsample for details.\n",
      "  warnings.warn(\n"
     ]
    },
    {
     "name": "stdout",
     "output_type": "stream",
     "text": [
      ".................................................\n",
      "Epoch 16 train loss_0 : 0.961 val loss_0 : 1.23 train loss_1 : 0.208 val loss_1 : -0.0134 \n",
      "."
     ]
    },
    {
     "name": "stderr",
     "output_type": "stream",
     "text": [
      "/opt/conda/envs/myenv_torch/lib/python3.9/site-packages/torch/nn/functional.py:3631: UserWarning: Default upsampling behavior when mode=linear is changed to align_corners=False since 0.4.0. Please specify align_corners=True if the old behavior is desired. See the documentation of nn.Upsample for details.\n",
      "  warnings.warn(\n"
     ]
    },
    {
     "name": "stdout",
     "output_type": "stream",
     "text": [
      ".................................................\n",
      "Epoch 17 train loss_0 : 0.959 val loss_0 : 1.24 train loss_1 : 0.211 val loss_1 : -0.0183 \n",
      "."
     ]
    },
    {
     "name": "stderr",
     "output_type": "stream",
     "text": [
      "/opt/conda/envs/myenv_torch/lib/python3.9/site-packages/torch/nn/functional.py:3631: UserWarning: Default upsampling behavior when mode=linear is changed to align_corners=False since 0.4.0. Please specify align_corners=True if the old behavior is desired. See the documentation of nn.Upsample for details.\n",
      "  warnings.warn(\n"
     ]
    },
    {
     "name": "stdout",
     "output_type": "stream",
     "text": [
      ".................................................\n",
      "Epoch 18 train loss_0 : 0.955 val loss_0 : 1.24 train loss_1 : 0.214 val loss_1 : -0.0196 \n",
      "."
     ]
    },
    {
     "name": "stderr",
     "output_type": "stream",
     "text": [
      "/opt/conda/envs/myenv_torch/lib/python3.9/site-packages/torch/nn/functional.py:3631: UserWarning: Default upsampling behavior when mode=linear is changed to align_corners=False since 0.4.0. Please specify align_corners=True if the old behavior is desired. See the documentation of nn.Upsample for details.\n",
      "  warnings.warn(\n"
     ]
    },
    {
     "name": "stdout",
     "output_type": "stream",
     "text": [
      ".................................................\n",
      "Epoch 19 train loss_0 : 0.957 val loss_0 : 1.23 train loss_1 : 0.217 val loss_1 : -0.0128 \n",
      "."
     ]
    },
    {
     "name": "stderr",
     "output_type": "stream",
     "text": [
      "/opt/conda/envs/myenv_torch/lib/python3.9/site-packages/torch/nn/functional.py:3631: UserWarning: Default upsampling behavior when mode=linear is changed to align_corners=False since 0.4.0. Please specify align_corners=True if the old behavior is desired. See the documentation of nn.Upsample for details.\n",
      "  warnings.warn(\n"
     ]
    },
    {
     "name": "stdout",
     "output_type": "stream",
     "text": [
      ".................................................\n",
      "Epoch 20 train loss_0 : 0.952 val loss_0 : 1.24 train loss_1 : 0.223 val loss_1 : -0.0102 \n",
      "."
     ]
    },
    {
     "name": "stderr",
     "output_type": "stream",
     "text": [
      "/opt/conda/envs/myenv_torch/lib/python3.9/site-packages/torch/nn/functional.py:3631: UserWarning: Default upsampling behavior when mode=linear is changed to align_corners=False since 0.4.0. Please specify align_corners=True if the old behavior is desired. See the documentation of nn.Upsample for details.\n",
      "  warnings.warn(\n"
     ]
    },
    {
     "name": "stdout",
     "output_type": "stream",
     "text": [
      ".................................................\n",
      "Epoch 21 train loss_0 : 0.954 val loss_0 : 1.24 train loss_1 : 0.223 val loss_1 : -0.0101 \n",
      "."
     ]
    },
    {
     "name": "stderr",
     "output_type": "stream",
     "text": [
      "/opt/conda/envs/myenv_torch/lib/python3.9/site-packages/torch/nn/functional.py:3631: UserWarning: Default upsampling behavior when mode=linear is changed to align_corners=False since 0.4.0. Please specify align_corners=True if the old behavior is desired. See the documentation of nn.Upsample for details.\n",
      "  warnings.warn(\n"
     ]
    },
    {
     "name": "stdout",
     "output_type": "stream",
     "text": [
      ".................................................\n",
      "Epoch 22 train loss_0 : 0.955 val loss_0 : 1.24 train loss_1 : 0.226 val loss_1 : -0.0158 \n",
      "."
     ]
    },
    {
     "name": "stderr",
     "output_type": "stream",
     "text": [
      "/opt/conda/envs/myenv_torch/lib/python3.9/site-packages/torch/nn/functional.py:3631: UserWarning: Default upsampling behavior when mode=linear is changed to align_corners=False since 0.4.0. Please specify align_corners=True if the old behavior is desired. See the documentation of nn.Upsample for details.\n",
      "  warnings.warn(\n"
     ]
    },
    {
     "name": "stdout",
     "output_type": "stream",
     "text": [
      ".................................................\n",
      "Epoch 23 train loss_0 : 0.954 val loss_0 : 1.24 train loss_1 : 0.23 val loss_1 : -0.01 \n",
      "."
     ]
    },
    {
     "name": "stderr",
     "output_type": "stream",
     "text": [
      "/opt/conda/envs/myenv_torch/lib/python3.9/site-packages/torch/nn/functional.py:3631: UserWarning: Default upsampling behavior when mode=linear is changed to align_corners=False since 0.4.0. Please specify align_corners=True if the old behavior is desired. See the documentation of nn.Upsample for details.\n",
      "  warnings.warn(\n"
     ]
    },
    {
     "name": "stdout",
     "output_type": "stream",
     "text": [
      ".................................................\n",
      "Epoch 24 train loss_0 : 0.954 val loss_0 : 1.24 train loss_1 : 0.232 val loss_1 : -0.0124 \n",
      "."
     ]
    },
    {
     "name": "stderr",
     "output_type": "stream",
     "text": [
      "/opt/conda/envs/myenv_torch/lib/python3.9/site-packages/torch/nn/functional.py:3631: UserWarning: Default upsampling behavior when mode=linear is changed to align_corners=False since 0.4.0. Please specify align_corners=True if the old behavior is desired. See the documentation of nn.Upsample for details.\n",
      "  warnings.warn(\n"
     ]
    },
    {
     "name": "stdout",
     "output_type": "stream",
     "text": [
      ".................................................\n",
      "Epoch 25 train loss_0 : 0.949 val loss_0 : 1.24 train loss_1 : 0.236 val loss_1 : -0.0142 \n",
      "."
     ]
    },
    {
     "name": "stderr",
     "output_type": "stream",
     "text": [
      "/opt/conda/envs/myenv_torch/lib/python3.9/site-packages/torch/nn/functional.py:3631: UserWarning: Default upsampling behavior when mode=linear is changed to align_corners=False since 0.4.0. Please specify align_corners=True if the old behavior is desired. See the documentation of nn.Upsample for details.\n",
      "  warnings.warn(\n"
     ]
    },
    {
     "name": "stdout",
     "output_type": "stream",
     "text": [
      ".................................................\n",
      "Epoch 26 train loss_0 : 0.95 val loss_0 : 1.24 train loss_1 : 0.236 val loss_1 : -0.00837 \n",
      "."
     ]
    },
    {
     "name": "stderr",
     "output_type": "stream",
     "text": [
      "/opt/conda/envs/myenv_torch/lib/python3.9/site-packages/torch/nn/functional.py:3631: UserWarning: Default upsampling behavior when mode=linear is changed to align_corners=False since 0.4.0. Please specify align_corners=True if the old behavior is desired. See the documentation of nn.Upsample for details.\n",
      "  warnings.warn(\n"
     ]
    },
    {
     "name": "stdout",
     "output_type": "stream",
     "text": [
      ".................................................\n",
      "Epoch 27 train loss_0 : 0.954 val loss_0 : 1.24 train loss_1 : 0.24 val loss_1 : -0.00691 \n",
      "."
     ]
    },
    {
     "name": "stderr",
     "output_type": "stream",
     "text": [
      "/opt/conda/envs/myenv_torch/lib/python3.9/site-packages/torch/nn/functional.py:3631: UserWarning: Default upsampling behavior when mode=linear is changed to align_corners=False since 0.4.0. Please specify align_corners=True if the old behavior is desired. See the documentation of nn.Upsample for details.\n",
      "  warnings.warn(\n"
     ]
    },
    {
     "name": "stdout",
     "output_type": "stream",
     "text": [
      ".................................................\n",
      "Epoch 28 train loss_0 : 0.952 val loss_0 : 1.24 train loss_1 : 0.241 val loss_1 : -0.0136 \n",
      "."
     ]
    },
    {
     "name": "stderr",
     "output_type": "stream",
     "text": [
      "/opt/conda/envs/myenv_torch/lib/python3.9/site-packages/torch/nn/functional.py:3631: UserWarning: Default upsampling behavior when mode=linear is changed to align_corners=False since 0.4.0. Please specify align_corners=True if the old behavior is desired. See the documentation of nn.Upsample for details.\n",
      "  warnings.warn(\n"
     ]
    },
    {
     "name": "stdout",
     "output_type": "stream",
     "text": [
      ".................................................\n",
      "Epoch 29 train loss_0 : 0.952 val loss_0 : 1.24 train loss_1 : 0.244 val loss_1 : -0.00802 \n",
      "."
     ]
    },
    {
     "name": "stderr",
     "output_type": "stream",
     "text": [
      "/opt/conda/envs/myenv_torch/lib/python3.9/site-packages/torch/nn/functional.py:3631: UserWarning: Default upsampling behavior when mode=linear is changed to align_corners=False since 0.4.0. Please specify align_corners=True if the old behavior is desired. See the documentation of nn.Upsample for details.\n",
      "  warnings.warn(\n"
     ]
    },
    {
     "name": "stdout",
     "output_type": "stream",
     "text": [
      ".................................................\n",
      "Epoch 30 train loss_0 : 0.95 val loss_0 : 1.24 train loss_1 : 0.245 val loss_1 : -0.00984 \n",
      "."
     ]
    },
    {
     "name": "stderr",
     "output_type": "stream",
     "text": [
      "/opt/conda/envs/myenv_torch/lib/python3.9/site-packages/torch/nn/functional.py:3631: UserWarning: Default upsampling behavior when mode=linear is changed to align_corners=False since 0.4.0. Please specify align_corners=True if the old behavior is desired. See the documentation of nn.Upsample for details.\n",
      "  warnings.warn(\n"
     ]
    },
    {
     "name": "stdout",
     "output_type": "stream",
     "text": [
      ".................................................\n",
      "Epoch 31 train loss_0 : 0.956 val loss_0 : 1.24 train loss_1 : 0.246 val loss_1 : -0.0109 \n",
      "."
     ]
    },
    {
     "name": "stderr",
     "output_type": "stream",
     "text": [
      "/opt/conda/envs/myenv_torch/lib/python3.9/site-packages/torch/nn/functional.py:3631: UserWarning: Default upsampling behavior when mode=linear is changed to align_corners=False since 0.4.0. Please specify align_corners=True if the old behavior is desired. See the documentation of nn.Upsample for details.\n",
      "  warnings.warn(\n"
     ]
    },
    {
     "name": "stdout",
     "output_type": "stream",
     "text": [
      ".................................................\n",
      "Epoch 32 train loss_0 : 0.949 val loss_0 : 1.24 train loss_1 : 0.247 val loss_1 : -0.0114 \n",
      "."
     ]
    },
    {
     "name": "stderr",
     "output_type": "stream",
     "text": [
      "/opt/conda/envs/myenv_torch/lib/python3.9/site-packages/torch/nn/functional.py:3631: UserWarning: Default upsampling behavior when mode=linear is changed to align_corners=False since 0.4.0. Please specify align_corners=True if the old behavior is desired. See the documentation of nn.Upsample for details.\n",
      "  warnings.warn(\n"
     ]
    },
    {
     "name": "stdout",
     "output_type": "stream",
     "text": [
      ".................................................\n",
      "Epoch 33 train loss_0 : 0.948 val loss_0 : 1.24 train loss_1 : 0.249 val loss_1 : -0.011 \n",
      "."
     ]
    },
    {
     "name": "stderr",
     "output_type": "stream",
     "text": [
      "/opt/conda/envs/myenv_torch/lib/python3.9/site-packages/torch/nn/functional.py:3631: UserWarning: Default upsampling behavior when mode=linear is changed to align_corners=False since 0.4.0. Please specify align_corners=True if the old behavior is desired. See the documentation of nn.Upsample for details.\n",
      "  warnings.warn(\n"
     ]
    },
    {
     "name": "stdout",
     "output_type": "stream",
     "text": [
      ".................................................\n",
      "Epoch 34 train loss_0 : 0.947 val loss_0 : 1.24 train loss_1 : 0.252 val loss_1 : -0.0147 \n",
      "."
     ]
    },
    {
     "name": "stderr",
     "output_type": "stream",
     "text": [
      "/opt/conda/envs/myenv_torch/lib/python3.9/site-packages/torch/nn/functional.py:3631: UserWarning: Default upsampling behavior when mode=linear is changed to align_corners=False since 0.4.0. Please specify align_corners=True if the old behavior is desired. See the documentation of nn.Upsample for details.\n",
      "  warnings.warn(\n"
     ]
    },
    {
     "name": "stdout",
     "output_type": "stream",
     "text": [
      ".................................................\n",
      "Epoch 35 train loss_0 : 0.949 val loss_0 : 1.24 train loss_1 : 0.252 val loss_1 : -0.0123 \n",
      "."
     ]
    },
    {
     "name": "stderr",
     "output_type": "stream",
     "text": [
      "/opt/conda/envs/myenv_torch/lib/python3.9/site-packages/torch/nn/functional.py:3631: UserWarning: Default upsampling behavior when mode=linear is changed to align_corners=False since 0.4.0. Please specify align_corners=True if the old behavior is desired. See the documentation of nn.Upsample for details.\n",
      "  warnings.warn(\n"
     ]
    },
    {
     "name": "stdout",
     "output_type": "stream",
     "text": [
      ".................................................\n",
      "Epoch 36 train loss_0 : 0.949 val loss_0 : 1.24 train loss_1 : 0.254 val loss_1 : -0.0117 \n",
      "."
     ]
    },
    {
     "name": "stderr",
     "output_type": "stream",
     "text": [
      "/opt/conda/envs/myenv_torch/lib/python3.9/site-packages/torch/nn/functional.py:3631: UserWarning: Default upsampling behavior when mode=linear is changed to align_corners=False since 0.4.0. Please specify align_corners=True if the old behavior is desired. See the documentation of nn.Upsample for details.\n",
      "  warnings.warn(\n"
     ]
    },
    {
     "name": "stdout",
     "output_type": "stream",
     "text": [
      ".................................................\n",
      "Epoch 37 train loss_0 : 0.953 val loss_0 : 1.24 train loss_1 : 0.253 val loss_1 : -0.0135 \n",
      "."
     ]
    },
    {
     "name": "stderr",
     "output_type": "stream",
     "text": [
      "/opt/conda/envs/myenv_torch/lib/python3.9/site-packages/torch/nn/functional.py:3631: UserWarning: Default upsampling behavior when mode=linear is changed to align_corners=False since 0.4.0. Please specify align_corners=True if the old behavior is desired. See the documentation of nn.Upsample for details.\n",
      "  warnings.warn(\n"
     ]
    },
    {
     "name": "stdout",
     "output_type": "stream",
     "text": [
      ".................................................\n",
      "Epoch 38 train loss_0 : 0.951 val loss_0 : 1.24 train loss_1 : 0.256 val loss_1 : -0.00879 \n",
      "."
     ]
    },
    {
     "name": "stderr",
     "output_type": "stream",
     "text": [
      "/opt/conda/envs/myenv_torch/lib/python3.9/site-packages/torch/nn/functional.py:3631: UserWarning: Default upsampling behavior when mode=linear is changed to align_corners=False since 0.4.0. Please specify align_corners=True if the old behavior is desired. See the documentation of nn.Upsample for details.\n",
      "  warnings.warn(\n"
     ]
    },
    {
     "name": "stdout",
     "output_type": "stream",
     "text": [
      ".................................................\n",
      "Epoch 39 train loss_0 : 0.949 val loss_0 : 1.24 train loss_1 : 0.255 val loss_1 : -0.00512 \n",
      "."
     ]
    },
    {
     "name": "stderr",
     "output_type": "stream",
     "text": [
      "/opt/conda/envs/myenv_torch/lib/python3.9/site-packages/torch/nn/functional.py:3631: UserWarning: Default upsampling behavior when mode=linear is changed to align_corners=False since 0.4.0. Please specify align_corners=True if the old behavior is desired. See the documentation of nn.Upsample for details.\n",
      "  warnings.warn(\n"
     ]
    },
    {
     "name": "stdout",
     "output_type": "stream",
     "text": [
      ".................................................\n",
      "Epoch 40 train loss_0 : 0.948 val loss_0 : 1.24 train loss_1 : 0.257 val loss_1 : -0.00623 \n",
      "."
     ]
    },
    {
     "name": "stderr",
     "output_type": "stream",
     "text": [
      "/opt/conda/envs/myenv_torch/lib/python3.9/site-packages/torch/nn/functional.py:3631: UserWarning: Default upsampling behavior when mode=linear is changed to align_corners=False since 0.4.0. Please specify align_corners=True if the old behavior is desired. See the documentation of nn.Upsample for details.\n",
      "  warnings.warn(\n"
     ]
    },
    {
     "name": "stdout",
     "output_type": "stream",
     "text": [
      ".................................................\n",
      "Epoch 41 train loss_0 : 0.947 val loss_0 : 1.24 train loss_1 : 0.26 val loss_1 : -0.00607 \n",
      "."
     ]
    },
    {
     "name": "stderr",
     "output_type": "stream",
     "text": [
      "/opt/conda/envs/myenv_torch/lib/python3.9/site-packages/torch/nn/functional.py:3631: UserWarning: Default upsampling behavior when mode=linear is changed to align_corners=False since 0.4.0. Please specify align_corners=True if the old behavior is desired. See the documentation of nn.Upsample for details.\n",
      "  warnings.warn(\n"
     ]
    },
    {
     "name": "stdout",
     "output_type": "stream",
     "text": [
      "........................."
     ]
    },
    {
     "name": "stderr",
     "output_type": "stream",
     "text": [
      "IOPub message rate exceeded.\n",
      "The notebook server will temporarily stop sending output\n",
      "to the client in order to avoid crashing it.\n",
      "To change this limit, set the config variable\n",
      "`--NotebookApp.iopub_msg_rate_limit`.\n",
      "\n",
      "Current values:\n",
      "NotebookApp.iopub_msg_rate_limit=1000.0 (msgs/sec)\n",
      "NotebookApp.rate_limit_window=3.0 (secs)\n",
      "\n"
     ]
    }
   ],
   "source": [
    "n_runs = 3\n",
    "\n",
    "for i in range(n_runs):\n",
    "    \n",
    "    model = autoencoder_v3.AutoEncoder1D(**hp_autoencoder)\n",
    "\n",
    "    loss_func = train_utils.make_mse_loss()\n",
    "    train_step = train_utils.train_step\n",
    "\n",
    "    optimizer = optim.Adam(model.parameters(), \n",
    "                       lr=config['lr'], \n",
    "                       weight_decay=config['weight_decay'])\n",
    "    \n",
    "    \n",
    "    parameters = {\n",
    "        'EPOCHS': 50,\n",
    "        'model': model, \n",
    "        'train_loader': train_loader, \n",
    "        'val_loader': val_loader, \n",
    "        'loss_function': loss_func,\n",
    "        'train_step': train_step,\n",
    "        'optimizer': optimizer, \n",
    "        'device': 'cuda', \n",
    "        'raw_test_data': test_dataset_prep,\n",
    "        'show_info': 1, \n",
    "        'num_losses': 5,\n",
    "        'labels': labels_roi,\n",
    "        'inference_function': inference.model_inference_function, \n",
    "        'to_many': config['to_many']\n",
    "    }\n",
    "\n",
    "\n",
    "\n",
    "    path_to_save_wandb = 'common/koval_alvi/Checkpoints/wandb_brain'\n",
    "    \n",
    "    \n",
    "    with wandb.init(project=\"eeg_fmri\", config=config, save_code=True):\n",
    "        \n",
    "        if i == 0: \n",
    "            exp_name = wandb.run.name\n",
    "        \n",
    "        wandb.run.name = exp_name +'_run_' + str(i)\n",
    "        \n",
    "        print(config)\n",
    "        print(parameters['model'])\n",
    "        print(summary(model, torch.zeros(4, config['n_channels'], len(config['freqs']), config['WINDOW_SIZE']), show_input=False))\n",
    "        \n",
    "        model = train_utils.wanb_train_regression(**parameters)\n",
    "        "
   ]
  },
  {
   "cell_type": "code",
   "execution_count": null,
   "id": "c923ea3f-b6c9-495e-bea2-36552a50cb38",
   "metadata": {},
   "outputs": [],
   "source": [
    "\n"
   ]
  },
  {
   "cell_type": "markdown",
   "id": "48e40a09-12c2-43b9-957f-8b37d0a0daa8",
   "metadata": {},
   "source": [
    "# "
   ]
  }
 ],
 "metadata": {
  "kernelspec": {
   "display_name": "myenv_torch",
   "language": "python",
   "name": "myenv_torch"
  },
  "language_info": {
   "codemirror_mode": {
    "name": "ipython",
    "version": 3
   },
   "file_extension": ".py",
   "mimetype": "text/x-python",
   "name": "python",
   "nbconvert_exporter": "python",
   "pygments_lexer": "ipython3",
   "version": "3.9.9"
  }
 },
 "nbformat": 4,
 "nbformat_minor": 5
}
